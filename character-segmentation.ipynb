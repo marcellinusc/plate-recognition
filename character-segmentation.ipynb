{
  "nbformat": 4,
  "nbformat_minor": 0,
  "metadata": {
    "kernelspec": {
      "display_name": "Python 3",
      "language": "python",
      "name": "python3"
    },
    "language_info": {
      "codemirror_mode": {
        "name": "ipython",
        "version": 3
      },
      "file_extension": ".py",
      "mimetype": "text/x-python",
      "name": "python",
      "nbconvert_exporter": "python",
      "pygments_lexer": "ipython3",
      "version": "3.7.7"
    },
    "colab": {
      "name": "char_segment.ipynb",
      "provenance": [],
      "include_colab_link": true
    }
  },
  "cells": [
    {
      "cell_type": "markdown",
      "metadata": {
        "id": "view-in-github",
        "colab_type": "text"
      },
      "source": [
        "<a href=\"https://colab.research.google.com/github/marcellinusc/plate-recognition/blob/branch-2/character-segmentation.ipynb\" target=\"_parent\"><img src=\"https://colab.research.google.com/assets/colab-badge.svg\" alt=\"Open In Colab\"/></a>"
      ]
    },
    {
      "cell_type": "code",
      "metadata": {
        "id": "4qBhZrkSSwrO",
        "colab_type": "code",
        "colab": {
          "base_uri": "https://localhost:8080/",
          "height": 34
        },
        "outputId": "5fb933b0-0654-4e99-88b6-fec67e0f1dbf"
      },
      "source": [
        "!git clone https://github.com/marcellinusc/plate-recognition.git"
      ],
      "execution_count": 1,
      "outputs": [
        {
          "output_type": "stream",
          "text": [
            "fatal: destination path 'plate-recognition' already exists and is not an empty directory.\n"
          ],
          "name": "stdout"
        }
      ]
    },
    {
      "cell_type": "code",
      "metadata": {
        "id": "8CkTvZQ6S6LW",
        "colab_type": "code",
        "colab": {
          "base_uri": "https://localhost:8080/",
          "height": 50
        },
        "outputId": "0b1ff994-b903-408f-a33a-7991417c653f"
      },
      "source": [
        "!cd plate-recognition && git checkout branch-2"
      ],
      "execution_count": 2,
      "outputs": [
        {
          "output_type": "stream",
          "text": [
            "Already on 'branch-2'\n",
            "Your branch is up to date with 'origin/branch-2'.\n"
          ],
          "name": "stdout"
        }
      ]
    },
    {
      "cell_type": "code",
      "metadata": {
        "id": "nH-I0mu7js_D",
        "colab_type": "code",
        "colab": {}
      },
      "source": [
        "import numpy as np\n",
        "import cv2\n",
        "from tensorflow.keras.models import load_model"
      ],
      "execution_count": 3,
      "outputs": []
    },
    {
      "cell_type": "code",
      "metadata": {
        "id": "wjW-DKawScY4",
        "colab_type": "code",
        "colab": {}
      },
      "source": [
        "# Match contours to license plate or character template\n",
        "def check_contours(boundaries, img_orig, img_preproc, license_plate_check, retr) :\n",
        "\n",
        "    # Find all contours in the image\n",
        "    (cntrs, _) = cv2.findContours(img_preproc.copy(), retr, cv2.CHAIN_APPROX_SIMPLE)\n",
        "\n",
        "    # Retrieve potential boundaries\n",
        "    lower_width = boundaries[0]\n",
        "    upper_width = boundaries[1]\n",
        "    lower_height = boundaries[2]\n",
        "    upper_height = boundaries[3]\n",
        "\n",
        "    # Check largest 5 or  15 contours for license plate or character respectively\n",
        "    if license_plate_check is True :\n",
        "        cntrs = sorted(cntrs, key=cv2.contourArea, reverse=True)[:5]\n",
        "    else :\n",
        "        cntrs = sorted(cntrs, key=cv2.contourArea, reverse=True)[:15]\n",
        "\n",
        "    x_cntr_list = []\n",
        "    target_contours = []\n",
        "    img_res = []\n",
        "    for cntr in cntrs :\n",
        "\n",
        "        intX, intY, intWidth, intHeight = cv2.boundingRect(cntr)\n",
        "        # Check if contour has proper sizes\n",
        "        if intWidth > lower_width and intWidth < upper_width and intHeight > lower_height and intHeight < upper_height :\n",
        "\n",
        "            x_cntr_list.append(intX)\n",
        "            target_contours.append(cntr)\n",
        "\n",
        "            # If we check a license plate, crop the license plate\n",
        "            if license_plate_check is True :\n",
        "                img_res = img_orig[intY:intY+intHeight, intX:intX+intWidth, :]\n",
        "\n",
        "            # If we check a character, crop the character\n",
        "            if license_plate_check is False :\n",
        "\n",
        "                char = img_orig[intY:intY+intHeight, intX:intX+intWidth]\n",
        "                w, h = round(char.shape[1]/char.shape[0] * 40), 40\n",
        "                char = cv2.resize(char, (w, h))\n",
        "\n",
        "                # Make result formatted for classification: invert colors\n",
        "                char = cv2.subtract(255, char)\n",
        "                img_res.append(char)\n",
        "\n",
        "    #Return characters on ascending order with respect to the x-coordinate (most-left character first)\n",
        "    if license_plate_check is False:\n",
        "        indices = sorted(range(len(x_cntr_list)), key=lambda k: x_cntr_list[k])\n",
        "        img_res_copy = []\n",
        "        target_contours_copy = []\n",
        "        for idx in indices:\n",
        "            img_res_copy.append(img_res[idx])\n",
        "            target_contours_copy.append(target_contours[idx])\n",
        "        img_res = img_res_copy\n",
        "        target_contours = target_contours_copy\n",
        "\n",
        "    return target_contours, img_res\n",
        "\n",
        "\n",
        "# Find characters in the resulting images\n",
        "def segment_characters(image) :\n",
        "\n",
        "    # Preprocess cropped license plate image\n",
        "    LP_WIDTH = 75\n",
        "    LP_HEIGHT = 150\n",
        "    img_lp = cv2.resize(image, (LP_HEIGHT, LP_WIDTH))\n",
        "    img_gray_lp = cv2.cvtColor(img_lp, cv2.COLOR_BGR2GRAY)\n",
        "    _, img_binary_lp = cv2.threshold(img_gray_lp, 100, 255, cv2.THRESH_BINARY+cv2.THRESH_OTSU)\n",
        "\n",
        "    # Estimations of character contours sizes of cropped license plates\n",
        "    boundaries_crop = [LP_WIDTH/30,\n",
        "                       LP_WIDTH/3,\n",
        "                       LP_HEIGHT/8,\n",
        "                       2*LP_HEIGHT/3]\n",
        "\n",
        "    # Estimations of character contour sizes of non-cropped license plates\n",
        "    boundaries_no_crop = [LP_WIDTH/12,\n",
        "                          LP_WIDTH/6,\n",
        "                          LP_HEIGHT/8,\n",
        "                          LP_HEIGHT/3]\n",
        "\n",
        "    # Get contours within cropped license plate\n",
        "    char_contours, char_list = check_contours(boundaries_crop, img_binary_lp, img_binary_lp, False,cv2.RETR_EXTERNAL)\n",
        "    \n",
        "    if len(char_contours) < 5:\n",
        "\n",
        "        char_contours, char_list = check_contours(boundaries_crop, img_binary_lp, img_binary_lp, False,cv2.RETR_TREE)\n",
        "\n",
        "    if len(char_contours) < 5:\n",
        "\n",
        "        # Check the smaller contours; possibly no plate was detected at all\n",
        "        char_contours, char_list = check_contours(boundaries_no_crop, img_binary_lp, img_binary_lp, False,cv2.RETR_TREE)\n",
        "\n",
        "\n",
        "    if len(char_contours) == 0 :\n",
        "\n",
        "            # If nothing was found, try inverting the image in case the background is darker than the foreground\n",
        "            invert_img_lp = np.invert(img_binary_lp)\n",
        "            char_contours, char_list = check_contours(boundaries_crop, img_binary_lp, invert_img_lp, False,cv2.RETR_TREE)\n",
        "\n",
        "    # If we found 7 chars, it is likely to form a license plate\n",
        "    full_license_plate = []\n",
        "    if len(char_contours) >= 5 :\n",
        "\n",
        "        full_license_plate = char_list\n",
        "    \n",
        "\n",
        "    return full_license_plate\n",
        "\n",
        "def read_license_plate(path) :\n",
        "    img = cv2.imread(path)\n",
        "    #segmenting\n",
        "    chars = segment_characters(img)\n",
        "    #make sure image background is correct\n",
        "    try:\n",
        "        if np.average(np.hstack(chars))/255>0.5:\n",
        "            chars = [255-s for s in chars]  \n",
        "\n",
        "        for i in range(len(chars)):\n",
        "            width, height = round(chars[i].shape[1]/chars[i].shape[0] * 24), 24\n",
        "\n",
        "            widthleft = int(np.floor((28-width)/2))\n",
        "            widthright = int(np.ceil((28-width)/2))\n",
        "            heighttop = int(np.floor((28-height)/2))\n",
        "            heightbottom = int(np.ceil((28-height)/2))\n",
        "\n",
        "            canvasleft = np.zeros((24,widthleft))\n",
        "            canvasright = np.zeros((24,widthright)) \n",
        "            canvastop = np.zeros((heighttop,28))\n",
        "            canvasbottom = np.zeros((heightbottom,28))\n",
        "\n",
        "            chars[i] = cv2.resize(chars[i], (width, height))\n",
        "            chars[i] = np.hstack((canvasleft,chars[i],canvasright))\n",
        "            chars[i] = np.vstack((canvastop,chars[i],canvasbottom))\n",
        "    \n",
        "    except:\n",
        "        chars = ['']\n",
        "            \n",
        "    return chars\n",
        "\n",
        "def license_number(chars) :\n",
        "    model = load_model('/content/plate-recognition/saved-model')\n",
        "    lic = ''\n",
        "    try:\n",
        "        for i in range(len(chars)):\n",
        "            chars[i] = chars[i].reshape(28,28,1).reshape(-1,28,28,1)\n",
        "            result = np.argmax(model.predict(chars[i]/255))\n",
        "            if result>=10:\n",
        "                result = chr(result+55) #convert to ASCII\n",
        "            lic = lic + str(result)\n",
        "            \n",
        "    except:\n",
        "        lic = ''\n",
        "\n",
        "    return lic"
      ],
      "execution_count": 4,
      "outputs": []
    },
    {
      "cell_type": "code",
      "metadata": {
        "scrolled": true,
        "id": "r2xnnhhItGuu",
        "colab_type": "code",
        "colab": {
          "base_uri": "https://localhost:8080/",
          "height": 131
        },
        "outputId": "28cd60c3-9524-4b42-bb01-d68f125a5a3f"
      },
      "source": [
        "import matplotlib.gridspec as gridspec\n",
        "import matplotlib.pyplot as plt\n",
        "\n",
        "impath='/content/plate-recognition/dataset/test-samples/ID_6.jpg'\n",
        "characters = read_license_plate(impath)\n",
        "license = license_number(characters)\n",
        "print(license)\n",
        "\n",
        "fig = plt.figure(figsize=(14,4))\n",
        "grid = gridspec.GridSpec(ncols=len(characters),nrows=1,figure=fig)\n",
        "for i in range(len(characters)):\n",
        "    fig.add_subplot(grid[i])\n",
        "    plt.axis(False)\n",
        "    plt.imshow(characters[i][0,:,:,0],cmap=\"gray\")"
      ],
      "execution_count": 5,
      "outputs": [
        {
          "output_type": "stream",
          "text": [
            "BP13D96D\n"
          ],
          "name": "stdout"
        },
        {
          "output_type": "display_data",
          "data": {
            "image/png": "[encoded data removed]",
            "text/plain": [
              "<Figure size 1008x288 with 8 Axes>"
            ]
          },
          "metadata": {
            "tags": [],
            "needs_background": "light"
          }
        }
      ]
    }
  ]
}