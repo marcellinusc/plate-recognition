{
  "nbformat": 4,
  "nbformat_minor": 0,
  "metadata": {
    "kernelspec": {
      "display_name": "Python 3",
      "language": "python",
      "name": "python3"
    },
    "language_info": {
      "codemirror_mode": {
        "name": "ipython",
        "version": 3
      },
      "file_extension": ".py",
      "mimetype": "text/x-python",
      "name": "python",
      "nbconvert_exporter": "python",
      "pygments_lexer": "ipython3",
      "version": "3.7.7"
    },
    "colab": {
      "name": "char_segment.ipynb",
      "provenance": [],
      "include_colab_link": true
    }
  },
  "cells": [
    {
      "cell_type": "markdown",
      "metadata": {
        "id": "view-in-github",
        "colab_type": "text"
      },
      "source": [
        "<a href=\"https://colab.research.google.com/github/marcellinusc/plate-recognition/blob/branch-2/character-segmentation.ipynb\" target=\"_parent\"><img src=\"https://colab.research.google.com/assets/colab-badge.svg\" alt=\"Open In Colab\"/></a>"
      ]
    },
    {
      "cell_type": "code",
      "metadata": {
        "id": "nH-I0mu7js_D",
        "colab_type": "code",
        "colab": {}
      },
      "source": [
        "import numpy as np\n",
        "import cv2"
      ],
      "execution_count": 1,
      "outputs": []
    },
    {
      "cell_type": "code",
      "metadata": {
        "id": "FSnT4NKGtGuc",
        "colab_type": "code",
        "cellView": "both",
        "colab": {}
      },
      "source": [
        "# Match contours to license plate or character template\n",
        "def _check_contours(boundaries, img_orig, img_preproc, license_plate_check, retr) :\n",
        "\n",
        "    # Find all contours in the image\n",
        "    (cntrs, _) = cv2.findContours(img_preproc.copy(), retr, cv2.CHAIN_APPROX_SIMPLE)\n",
        "\n",
        "    # Retrieve potential boundaries\n",
        "    lower_width = boundaries[0]\n",
        "    upper_width = boundaries[1]\n",
        "    lower_height = boundaries[2]\n",
        "    upper_height = boundaries[3]\n",
        "\n",
        "    # Check largest 5 or  15 contours for license plate or character respectively\n",
        "    if license_plate_check is True :\n",
        "        cntrs = sorted(cntrs, key=cv2.contourArea, reverse=True)[:5]\n",
        "    else :\n",
        "        cntrs = sorted(cntrs, key=cv2.contourArea, reverse=True)[:15]\n",
        "\n",
        "    x_cntr_list = []\n",
        "    target_contours = []\n",
        "    img_res = []\n",
        "    for cntr in cntrs :\n",
        "\n",
        "        intX, intY, intWidth, intHeight = cv2.boundingRect(cntr)\n",
        "        # Check if contour has proper sizes\n",
        "        if intWidth > lower_width and intWidth < upper_width and intHeight > lower_height and intHeight < upper_height :\n",
        "\n",
        "            x_cntr_list.append(intX)\n",
        "            target_contours.append(cntr)\n",
        "\n",
        "            # If we check a license plate, crop the license plate\n",
        "            if license_plate_check is True :\n",
        "                img_res = img_orig[intY:intY+intHeight, intX:intX+intWidth, :]\n",
        "\n",
        "            # If we check a character, crop the character\n",
        "            if license_plate_check is False :\n",
        "\n",
        "                char = img_orig[intY:intY+intHeight, intX:intX+intWidth]\n",
        "                w, h = round(char.shape[1]/char.shape[0] * 40), 40\n",
        "                char = cv2.resize(char, (w, h))\n",
        "\n",
        "                # Make result formatted for classification: invert colors\n",
        "                char = cv2.subtract(255, char)\n",
        "                img_res.append(char)\n",
        "\n",
        "    # Return characters on ascending order with respect to the x-coordinate (most-left character first)\n",
        "    if license_plate_check is False:\n",
        "        indices = sorted(range(len(x_cntr_list)), key=lambda k: x_cntr_list[k])\n",
        "        img_res_copy = []\n",
        "        target_contours_copy = []\n",
        "        for idx in indices:\n",
        "            img_res_copy.append(img_res[idx])\n",
        "            target_contours_copy.append(target_contours[idx])\n",
        "        img_res = img_res_copy\n",
        "        target_contours = target_contours_copy\n",
        "\n",
        "    return target_contours, img_res"
      ],
      "execution_count": 3,
      "outputs": []
    },
    {
      "cell_type": "code",
      "metadata": {
        "id": "7oBxazvJjyO6",
        "colab_type": "code",
        "colab": {}
      },
      "source": [
        "# Crop license plates\n",
        "def segment_license_plate(image) :\n",
        "\n",
        "    IMAGE_HEIGHT = 100\n",
        "    IMAGE_WIDTH = 200\n",
        "\n",
        "    # Preprocess image\n",
        "    img_gray = cv2.cvtColor(image, cv2.COLOR_BGR2GRAY)\n",
        "    _, img_binary = cv2.threshold(img_gray, 0, 255, cv2.THRESH_BINARY+cv2.THRESH_OTSU)\n",
        "\n",
        "    # Define expected boundaries of detected license plate\n",
        "    lower_width_lp = IMAGE_WIDTH/4\n",
        "    upper_width_lp = 8*IMAGE_WIDTH/10\n",
        "    lower_height_lp= IMAGE_HEIGHT/4\n",
        "    upper_height_lp = 2*IMAGE_HEIGHT/3\n",
        "\n",
        "    boundaries_lp = [lower_width_lp,\n",
        "                  upper_width_lp,\n",
        "                  lower_height_lp,\n",
        "                  upper_height_lp]\n",
        "\n",
        "\n",
        "    # Retrieve the probable cropped license plate\n",
        "    plate_contours, img_lp = _check_contours(boundaries_lp, image, img_binary, True)\n",
        "\n",
        "    if len(plate_contours) == 0 :\n",
        "        invert_img = np.invert(img_binary)\n",
        "\n",
        "        # Check contour of inverted image if it's possibly a license plate\n",
        "        plate_contours, img_lp = _check_contours(boundaries_lp, image, invert_img, True)\n",
        "\n",
        "\n",
        "    # If no license plate was found, return the biggest contour\n",
        "    if len(plate_contours) == 0 :\n",
        "\n",
        "         (contours, _) = cv2.findContours(img_binary.copy(), cv2.RETR_TREE, cv2.CHAIN_APPROX_SIMPLE)\n",
        "         contours = sorted(contours, key=cv2.contourArea, reverse=True)[:1]\n",
        "\n",
        "         plate_contours = []\n",
        "         for contour in contours :\n",
        "             intX, intY, intWidth, intHeight = cv2.boundingRect(contour)\n",
        "             img_lp = image[intY:intY+intHeight,intX:intX+intWidth,:]\n",
        "             plate_contours.append(contour)\n",
        "\n",
        "    return img_lp"
      ],
      "execution_count": 4,
      "outputs": []
    },
    {
      "cell_type": "code",
      "metadata": {
        "id": "KSyRIYTYj4al",
        "colab_type": "code",
        "colab": {}
      },
      "source": [
        "# Find characters in the resulting images\n",
        "def segment_characters(image) :\n",
        "\n",
        "    # Preprocess cropped license plate image\n",
        "    LP_WIDTH = 75\n",
        "    LP_HEIGHT = 150\n",
        "    img_lp = cv2.resize(image, (LP_HEIGHT, LP_WIDTH))\n",
        "    img_gray_lp = cv2.cvtColor(img_lp, cv2.COLOR_BGR2GRAY)\n",
        "    _, img_binary_lp = cv2.threshold(img_gray_lp, 100, 255, cv2.THRESH_BINARY+cv2.THRESH_OTSU)\n",
        "\n",
        "    # Estimations of character contours sizes of cropped license plates\n",
        "    boundaries_crop = [LP_WIDTH/30,\n",
        "                       LP_WIDTH/3,\n",
        "                       LP_HEIGHT/8,\n",
        "                       2*LP_HEIGHT/3]\n",
        "\n",
        "    # Estimations of character contour sizes of non-cropped license plates\n",
        "    boundaries_no_crop = [LP_WIDTH/12,\n",
        "                          LP_WIDTH/6,\n",
        "                          LP_HEIGHT/8,\n",
        "                          LP_HEIGHT/3]\n",
        "\n",
        "    # Get contours within cropped license plate\n",
        "    char_contours, char_list = _check_contours(boundaries_crop, img_binary_lp, img_binary_lp, False,cv2.RETR_EXTERNAL)\n",
        "    \n",
        "    if len(char_contours) < 5:\n",
        "\n",
        "        char_contours, char_list = _check_contours(boundaries_crop, img_binary_lp, img_binary_lp, False,cv2.RETR_TREE)\n",
        "\n",
        "    if len(char_contours) < 5:\n",
        "\n",
        "        # Check the smaller contours; possibly no plate was detected at all\n",
        "        char_contours, char_list = _check_contours(boundaries_no_crop, img_binary_lp, img_binary_lp, False,cv2.RETR_TREE)\n",
        "\n",
        "\n",
        "    if len(char_contours) == 0 :\n",
        "\n",
        "            # If nothing was found, try inverting the image in case the background is darker than the foreground\n",
        "            invert_img_lp = np.invert(img_binary_lp)\n",
        "            char_contours, char_list = _check_contours(boundaries_crop, img_binary_lp, invert_img_lp, False,cv2.RETR_TREE)\n",
        "\n",
        "    # If we found 7 chars, it is likely to form a license plate\n",
        "    full_license_plate = []\n",
        "    if len(char_contours) >= 5 :\n",
        "\n",
        "        full_license_plate = char_list\n",
        "    \n",
        "\n",
        "    return full_license_plate"
      ],
      "execution_count": 5,
      "outputs": []
    },
    {
      "cell_type": "code",
      "metadata": {
        "id": "FT9OblPdtGum",
        "colab_type": "code",
        "colab": {}
      },
      "source": [
        "from tensorflow.keras.models import load_model\n",
        "\n",
        "def read_license_plate(path) :\n",
        "    img = cv2.imread(path)\n",
        "    # Segmenting\n",
        "    chars = segment_characters(img)\n",
        "    # Make sure that the image is white letter with black backgrounnd\n",
        "    if np.average(np.hstack(chars))/255>0.5:\n",
        "        chars = [255-s for s in chars]  \n",
        "    \n",
        "    for i in range(len(chars)):\n",
        "        width, height = round(chars[i].shape[1]/chars[i].shape[0] * 28), 28\n",
        "\n",
        "        widthleft = int(np.floor((28-width)/2))\n",
        "        widthright = int(np.ceil((28-width)/2))\n",
        "\n",
        "        canvasleft = np.zeros((28,widthleft))\n",
        "        canvasright = np.zeros((28,widthright)) \n",
        "        \n",
        "        chars[i] = cv2.resize(chars[i], (width, height))\n",
        "        chars[i] = np.hstack((canvasleft,chars[i],canvasright))\n",
        "            \n",
        "    return chars\n",
        "\n",
        "def license_number(chars) :\n",
        "    model = load_model('/content/plate-recognition/saved-model')\n",
        "    \n",
        "    lic = ''\n",
        "    for i in range(len(chars)):\n",
        "        chars[i] = chars[i].reshape(28,28,1).reshape(-1,28,28,1)\n",
        "        result = np.argmax(model.predict(chars[i]))\n",
        "        if result>=10:\n",
        "            result = chr(result+55) #convert to ASCII\n",
        "        lic = lic + str(result)\n",
        "\n",
        "    return lic"
      ],
      "execution_count": 6,
      "outputs": []
    },
    {
      "cell_type": "code",
      "metadata": {
        "scrolled": true,
        "id": "r2xnnhhItGuu",
        "colab_type": "code",
        "colab": {
          "base_uri": "https://localhost:8080/",
          "height": 131
        },
        "outputId": "6c9cabdf-c051-458c-fe20-b7b5ddfd3542"
      },
      "source": [
        "import matplotlib.gridspec as gridspec\n",
        "import matplotlib.pyplot as plt\n",
        "\n",
        "impath='/content/plate-recognition/dataset/test-samples/ID_6.jpg'\n",
        "characters = read_license_plate(impath)\n",
        "license = license_number(characters)\n",
        "print(license)\n",
        "\n",
        "fig = plt.figure(figsize=(14,4))\n",
        "grid = gridspec.GridSpec(ncols=len(characters),nrows=1,figure=fig)\n",
        "for i in range(len(characters)):\n",
        "    fig.add_subplot(grid[i])\n",
        "    plt.axis(False)\n",
        "    plt.imshow(characters[i][0,:,:,0],cmap=\"gray\")"
      ],
      "execution_count": 15,
      "outputs": [
        {
          "output_type": "stream",
          "text": [
            "BP7309GD\n"
          ],
          "name": "stdout"
        },
        {
          "output_type": "display_data",
          "data": {
            "image/png": "[encoded data removed]",
            "text/plain": [
              "<Figure size 1008x288 with 8 Axes>"
            ]
          },
          "metadata": {
            "tags": [],
            "needs_background": "light"
          }
        }
      ]
    }
  ]
}