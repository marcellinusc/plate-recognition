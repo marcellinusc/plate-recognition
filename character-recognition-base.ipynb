{
  "nbformat": 4,
  "nbformat_minor": 0,
  "metadata": {
    "kernelspec": {
      "display_name": "Python 3",
      "language": "python",
      "name": "python3"
    },
    "language_info": {
      "codemirror_mode": {
        "name": "ipython",
        "version": 3
      },
      "file_extension": ".py",
      "mimetype": "text/x-python",
      "name": "python",
      "nbconvert_exporter": "python",
      "pygments_lexer": "ipython3",
      "version": "3.7.7"
    },
    "colab": {
      "name": "emnist.ipynb",
      "provenance": [],
      "collapsed_sections": [],
      "toc_visible": true,
      "include_colab_link": true
    },
    "accelerator": "GPU"
  },
  "cells": [
    {
      "cell_type": "markdown",
      "metadata": {
        "id": "view-in-github",
        "colab_type": "text"
      },
      "source": [
        "<a href=\"https://colab.research.google.com/github/marcellinusc/plate-recognition/blob/branch-2/character-recognition-base.ipynb\" target=\"_parent\"><img src=\"https://colab.research.google.com/assets/colab-badge.svg\" alt=\"Open In Colab\"/></a>"
      ]
    },
    {
      "cell_type": "markdown",
      "metadata": {
        "id": "v4ZmvEHEtq6K",
        "colab_type": "text"
      },
      "source": [
        "#Character Recognition with CNN using Extended MNIST Balanced Dataset"
      ]
    },
    {
      "cell_type": "markdown",
      "metadata": {
        "id": "Mp-6-IHjNYNi",
        "colab_type": "text"
      },
      "source": [
        "##Initialization"
      ]
    },
    {
      "cell_type": "code",
      "metadata": {
        "id": "vGje3EhlMEtB",
        "colab_type": "code",
        "colab": {
          "base_uri": "https://localhost:8080/",
          "height": 34
        },
        "outputId": "88cfc44f-aa8b-41ee-bab8-03f22c9c5295"
      },
      "source": [
        "import tensorflow as tf\n",
        "print(tf.__version__)"
      ],
      "execution_count": 1,
      "outputs": [
        {
          "output_type": "stream",
          "text": [
            "2.2.0\n"
          ],
          "name": "stdout"
        }
      ]
    },
    {
      "cell_type": "code",
      "metadata": {
        "id": "cTzTJXfbHRre",
        "colab_type": "code",
        "colab": {
          "base_uri": "https://localhost:8080/",
          "height": 134
        },
        "outputId": "9728b35b-d187-4a31-aceb-899745f2126f"
      },
      "source": [
        "!git clone https://github.com/marcellinusc/plate-recognition.git"
      ],
      "execution_count": 2,
      "outputs": [
        {
          "output_type": "stream",
          "text": [
            "Cloning into 'plate-recognition'...\n",
            "remote: Enumerating objects: 54, done.\u001b[K\n",
            "remote: Counting objects:   1% (1/54)\u001b[K\rremote: Counting objects:   3% (2/54)\u001b[K\rremote: Counting objects:   5% (3/54)\u001b[K\rremote: Counting objects:   7% (4/54)\u001b[K\rremote: Counting objects:   9% (5/54)\u001b[K\rremote: Counting objects:  11% (6/54)\u001b[K\rremote: Counting objects:  12% (7/54)\u001b[K\rremote: Counting objects:  14% (8/54)\u001b[K\rremote: Counting objects:  16% (9/54)\u001b[K\rremote: Counting objects:  18% (10/54)\u001b[K\rremote: Counting objects:  20% (11/54)\u001b[K\rremote: Counting objects:  22% (12/54)\u001b[K\rremote: Counting objects:  24% (13/54)\u001b[K\rremote: Counting objects:  25% (14/54)\u001b[K\rremote: Counting objects:  27% (15/54)\u001b[K\rremote: Counting objects:  29% (16/54)\u001b[K\rremote: Counting objects:  31% (17/54)\u001b[K\rremote: Counting objects:  33% (18/54)\u001b[K\rremote: Counting objects:  35% (19/54)\u001b[K\rremote: Counting objects:  37% (20/54)\u001b[K\rremote: Counting objects:  38% (21/54)\u001b[K\rremote: Counting objects:  40% (22/54)\u001b[K\rremote: Counting objects:  42% (23/54)\u001b[K\rremote: Counting objects:  44% (24/54)\u001b[K\rremote: Counting objects:  46% (25/54)\u001b[K\rremote: Counting objects:  48% (26/54)\u001b[K\rremote: Counting objects:  50% (27/54)\u001b[K\rremote: Counting objects:  51% (28/54)\u001b[K\rremote: Counting objects:  53% (29/54)\u001b[K\rremote: Counting objects:  55% (30/54)\u001b[K\rremote: Counting objects:  57% (31/54)\u001b[K\rremote: Counting objects:  59% (32/54)\u001b[K\rremote: Counting objects:  61% (33/54)\u001b[K\rremote: Counting objects:  62% (34/54)\u001b[K\rremote: Counting objects:  64% (35/54)\u001b[K\rremote: Counting objects:  66% (36/54)\u001b[K\rremote: Counting objects:  68% (37/54)\u001b[K\rremote: Counting objects:  70% (38/54)\u001b[K\rremote: Counting objects:  72% (39/54)\u001b[K\rremote: Counting objects:  74% (40/54)\u001b[K\rremote: Counting objects:  75% (41/54)\u001b[K\rremote: Counting objects:  77% (42/54)\u001b[K\rremote: Counting objects:  79% (43/54)\u001b[K\rremote: Counting objects:  81% (44/54)\u001b[K\rremote: Counting objects:  83% (45/54)\u001b[K\rremote: Counting objects:  85% (46/54)\u001b[K\rremote: Counting objects:  87% (47/54)\u001b[K\rremote: Counting objects:  88% (48/54)\u001b[K\rremote: Counting objects:  90% (49/54)\u001b[K\rremote: Counting objects:  92% (50/54)\u001b[K\rremote: Counting objects:  94% (51/54)\u001b[K\rremote: Counting objects:  96% (52/54)\u001b[K\rremote: Counting objects:  98% (53/54)\u001b[K\rremote: Counting objects: 100% (54/54)\u001b[K\rremote: Counting objects: 100% (54/54), done.\u001b[K\n",
            "remote: Compressing objects: 100% (54/54), done.\u001b[K\n",
            "remote: Total 826 (delta 24), reused 0 (delta 0), pack-reused 772\u001b[K\n",
            "Receiving objects: 100% (826/826), 123.56 MiB | 11.72 MiB/s, done.\n",
            "Resolving deltas: 100% (64/64), done.\n"
          ],
          "name": "stdout"
        }
      ]
    },
    {
      "cell_type": "code",
      "metadata": {
        "id": "pk8UYCxIJQDW",
        "colab_type": "code",
        "colab": {
          "base_uri": "https://localhost:8080/",
          "height": 67
        },
        "outputId": "c67fedc1-68b8-424c-90e6-6603a8da2c3c"
      },
      "source": [
        "!cd plate-recognition && git checkout branch-2"
      ],
      "execution_count": 3,
      "outputs": [
        {
          "output_type": "stream",
          "text": [
            "Checking out files:  99% (675/676)   \rChecking out files: 100% (676/676)   \rChecking out files: 100% (676/676), done.\n",
            "Branch 'branch-2' set up to track remote branch 'branch-2' from 'origin'.\n",
            "Switched to a new branch 'branch-2'\n"
          ],
          "name": "stdout"
        }
      ]
    },
    {
      "cell_type": "code",
      "metadata": {
        "id": "UZjYriZy6bwQ",
        "colab_type": "code",
        "colab": {
          "base_uri": "https://localhost:8080/",
          "height": 222
        },
        "outputId": "4cfc63b8-54b8-4203-d84d-8a53474c05f0"
      },
      "source": [
        "!pip install idx2numpy"
      ],
      "execution_count": 4,
      "outputs": [
        {
          "output_type": "stream",
          "text": [
            "Collecting idx2numpy\n",
            "  Downloading https://files.pythonhosted.org/packages/23/6b/abab4652eb249f432c62431907c8de32bdcedb5abdf869ff86653efff981/idx2numpy-1.2.2.tar.gz\n",
            "Requirement already satisfied: numpy in /usr/local/lib/python3.6/dist-packages (from idx2numpy) (1.18.5)\n",
            "Requirement already satisfied: six in /usr/local/lib/python3.6/dist-packages (from idx2numpy) (1.12.0)\n",
            "Building wheels for collected packages: idx2numpy\n",
            "  Building wheel for idx2numpy (setup.py) ... \u001b[?25l\u001b[?25hdone\n",
            "  Created wheel for idx2numpy: filename=idx2numpy-1.2.2-cp36-none-any.whl size=8032 sha256=62d726194bb56225aa2b666921169b31ffbf7d51929d62b53b2b6024ce72c0cc\n",
            "  Stored in directory: /root/.cache/pip/wheels/7a/b5/69/3e0757b3086607e95db70661798fdf98a77a0bb79c54e1f320\n",
            "Successfully built idx2numpy\n",
            "Installing collected packages: idx2numpy\n",
            "Successfully installed idx2numpy-1.2.2\n"
          ],
          "name": "stdout"
        }
      ]
    },
    {
      "cell_type": "markdown",
      "metadata": {
        "id": "kI_Cel3iM76Z",
        "colab_type": "text"
      },
      "source": [
        "##Data Preparation"
      ]
    },
    {
      "cell_type": "code",
      "metadata": {
        "id": "ZjYMKxWJKAav",
        "colab_type": "code",
        "cellView": "code",
        "colab": {}
      },
      "source": [
        "#@title Load EMNIST dataset\n",
        "\n",
        "import idx2numpy\n",
        "\n",
        "X_train = idx2numpy.convert_from_file('/content/plate-recognition/dataset/emnist-characters/emnist-balanced-train-images-idx3-ubyte')\n",
        "y_train = idx2numpy.convert_from_file('/content/plate-recognition/dataset/emnist-characters//emnist-balanced-train-labels-idx1-ubyte')\n",
        "\n",
        "X_test = idx2numpy.convert_from_file('/content/plate-recognition/dataset/emnist-characters//emnist-balanced-test-images-idx3-ubyte')\n",
        "y_test = idx2numpy.convert_from_file('/content/plate-recognition/dataset/emnist-characters//emnist-balanced-test-labels-idx1-ubyte')"
      ],
      "execution_count": 5,
      "outputs": []
    },
    {
      "cell_type": "code",
      "metadata": {
        "id": "BA5kAi3MKAa_",
        "colab_type": "code",
        "colab": {
          "base_uri": "https://localhost:8080/",
          "height": 282
        },
        "outputId": "9a4a7eb9-2a60-4fbb-8ff4-9658825c0840"
      },
      "source": [
        "#@title Show image example\n",
        "\n",
        "import matplotlib.pyplot as plt\n",
        "\n",
        "i=169\n",
        "plt.imshow(X_train[i].transpose(),cmap='gray')\n",
        "print(y_train[i])"
      ],
      "execution_count": 6,
      "outputs": [
        {
          "output_type": "stream",
          "text": [
            "12\n"
          ],
          "name": "stdout"
        },
        {
          "output_type": "display_data",
          "data": {
            "image/png": "[encoded data removed]",
            "text/plain": [
              "<Figure size 432x288 with 1 Axes>"
            ]
          },
          "metadata": {
            "tags": [],
            "needs_background": "light"
          }
        }
      ]
    },
    {
      "cell_type": "code",
      "metadata": {
        "id": "SoSPFgwnKAbM",
        "colab_type": "code",
        "colab": {}
      },
      "source": [
        "#@title Filter dataset to only include numbers and capital letters\n",
        "\n",
        "import numpy as np\n",
        "\n",
        "test_X=[]\n",
        "test_Y=[]\n",
        "\n",
        "for i in range(0,len(y_test)):\n",
        "    if 0<=y_test[i]<=35:\n",
        "        test_X.insert(i,X_test[i].transpose())\n",
        "        test_Y.insert(i,y_test[i])\n",
        "\n",
        "test_X=np.array(test_X)\n",
        "test_Y=np.array(test_Y)\n",
        "\n",
        "train_X=[]\n",
        "train_Y=[]\n",
        "\n",
        "for i in range(0,len(y_train)):\n",
        "    if 0<=y_train[i]<=35:\n",
        "        train_X.insert(i,X_train[i].transpose())\n",
        "        train_Y.insert(i,y_train[i])\n",
        "\n",
        "train_X=np.array(train_X)\n",
        "train_Y=np.array(train_Y)"
      ],
      "execution_count": 7,
      "outputs": []
    },
    {
      "cell_type": "code",
      "metadata": {
        "id": "oeM-dDnqKAbU",
        "colab_type": "code",
        "colab": {}
      },
      "source": [
        "#@title Reshape dataset and one-hot-encode the labels\n",
        "\n",
        "from tensorflow.keras.utils import to_categorical\n",
        "\n",
        "train_X = train_X.reshape(-1,28,28,1)\n",
        "test_X = test_X.reshape(-1,28,28,1)\n",
        "\n",
        "train_X = train_X.astype('float32')/255\n",
        "test_X = test_X.astype('float32')/255\n",
        "\n",
        "train_Y_one_hot = to_categorical(train_Y)\n",
        "test_Y_one_hot = to_categorical(test_Y)"
      ],
      "execution_count": 8,
      "outputs": []
    },
    {
      "cell_type": "code",
      "metadata": {
        "id": "YVb1Mn9CKAbb",
        "colab_type": "code",
        "colab": {
          "base_uri": "https://localhost:8080/",
          "height": 54
        },
        "outputId": "535bb6d1-bfeb-47c0-b808-4d25b7097cee"
      },
      "source": [
        "#@title Split 'train' into training set and validation set\n",
        "\n",
        "from sklearn.model_selection import train_test_split\n",
        "train_X,valid_X,train_label,valid_label=train_test_split(train_X,train_Y_one_hot,test_size=0.2,random_state=13)\n",
        "print('new training data shape, new validation data shape, new training label shape, new validation label shape:',train_X.shape,valid_X.shape,train_label.shape,valid_label.shape)"
      ],
      "execution_count": 9,
      "outputs": [
        {
          "output_type": "stream",
          "text": [
            "new training data shape, new validation data shape, new training label shape, new validation label shape: (69120, 28, 28, 1) (17280, 28, 28, 1) (69120, 36) (17280, 36)\n"
          ],
          "name": "stdout"
        }
      ]
    },
    {
      "cell_type": "markdown",
      "metadata": {
        "id": "NuqEn332N3-m",
        "colab_type": "text"
      },
      "source": [
        "##CNN Model"
      ]
    },
    {
      "cell_type": "code",
      "metadata": {
        "id": "JGwMkOeGKAbh",
        "colab_type": "code",
        "colab": {}
      },
      "source": [
        "#@title Build CNN for classifying 0-9 and A-Z characters\n",
        "\n",
        "import tensorflow as tf\n",
        "from tensorflow.keras.models import Sequential,Model\n",
        "from tensorflow.keras.layers import Dense,Dropout,Flatten\n",
        "from tensorflow.keras.layers import Conv2D,MaxPooling2D\n",
        "\n",
        "model = Sequential()\n",
        "model.add(Conv2D(32,kernel_size=(3,3),activation='relu',input_shape=(28,28,1),padding='same'))\n",
        "model.add(MaxPooling2D(pool_size=(2,2),padding='same'))\n",
        "model.add(Conv2D(64,kernel_size=(3,3),activation='relu',padding='same'))\n",
        "model.add(MaxPooling2D(pool_size=(2,2),padding='same'))\n",
        "model.add(Flatten())\n",
        "model.add(Dense(128,activation='relu'))\n",
        "model.add(Dense(36,activation='softmax'))"
      ],
      "execution_count": 10,
      "outputs": []
    },
    {
      "cell_type": "code",
      "metadata": {
        "id": "I4kBZc7xKAbn",
        "colab_type": "code",
        "colab": {
          "base_uri": "https://localhost:8080/",
          "height": 386
        },
        "outputId": "337f4fca-c1b8-42d1-da69-f49ec296ddd8"
      },
      "source": [
        "#@title Show model layers\n",
        "\n",
        "model.summary()"
      ],
      "execution_count": 11,
      "outputs": [
        {
          "output_type": "stream",
          "text": [
            "Model: \"sequential\"\n",
            "_________________________________________________________________\n",
            "Layer (type)                 Output Shape              Param #   \n",
            "=================================================================\n",
            "conv2d (Conv2D)              (None, 28, 28, 32)        320       \n",
            "_________________________________________________________________\n",
            "max_pooling2d (MaxPooling2D) (None, 14, 14, 32)        0         \n",
            "_________________________________________________________________\n",
            "conv2d_1 (Conv2D)            (None, 14, 14, 64)        18496     \n",
            "_________________________________________________________________\n",
            "max_pooling2d_1 (MaxPooling2 (None, 7, 7, 64)          0         \n",
            "_________________________________________________________________\n",
            "flatten (Flatten)            (None, 3136)              0         \n",
            "_________________________________________________________________\n",
            "dense (Dense)                (None, 128)               401536    \n",
            "_________________________________________________________________\n",
            "dense_1 (Dense)              (None, 36)                4644      \n",
            "=================================================================\n",
            "Total params: 424,996\n",
            "Trainable params: 424,996\n",
            "Non-trainable params: 0\n",
            "_________________________________________________________________\n"
          ],
          "name": "stdout"
        }
      ]
    },
    {
      "cell_type": "code",
      "metadata": {
        "id": "JY_P8be_KAbv",
        "colab_type": "code",
        "cellView": "both",
        "colab": {
          "base_uri": "https://localhost:8080/",
          "height": 689
        },
        "outputId": "026880ed-71d4-4891-ebbb-efd3d0dbe8c1"
      },
      "source": [
        "#@title Train model\n",
        "\n",
        "batch_size=128\n",
        "epochs=20\n",
        "\n",
        "model.compile(loss='categorical_crossentropy',metrics=['accuracy'],\n",
        "              optimizer='adam')\n",
        "train_result=model.fit(train_X,train_label,\n",
        "                       batch_size=batch_size,epochs=epochs,verbose=1,\n",
        "                       validation_data=(valid_X,valid_label))"
      ],
      "execution_count": 12,
      "outputs": [
        {
          "output_type": "stream",
          "text": [
            "Epoch 1/20\n",
            "540/540 [==============================] - 5s 10ms/step - loss: 0.7173 - accuracy: 0.7777 - val_loss: 0.3946 - val_accuracy: 0.8656\n",
            "Epoch 2/20\n",
            "540/540 [==============================] - 5s 10ms/step - loss: 0.3415 - accuracy: 0.8804 - val_loss: 0.3245 - val_accuracy: 0.8852\n",
            "Epoch 3/20\n",
            "540/540 [==============================] - 5s 10ms/step - loss: 0.2810 - accuracy: 0.8976 - val_loss: 0.2951 - val_accuracy: 0.8940\n",
            "Epoch 4/20\n",
            "540/540 [==============================] - 5s 9ms/step - loss: 0.2495 - accuracy: 0.9069 - val_loss: 0.2922 - val_accuracy: 0.8936\n",
            "Epoch 5/20\n",
            "540/540 [==============================] - 5s 10ms/step - loss: 0.2255 - accuracy: 0.9140 - val_loss: 0.2928 - val_accuracy: 0.8936\n",
            "Epoch 6/20\n",
            "540/540 [==============================] - 5s 9ms/step - loss: 0.2052 - accuracy: 0.9202 - val_loss: 0.2685 - val_accuracy: 0.9019\n",
            "Epoch 7/20\n",
            "540/540 [==============================] - 5s 10ms/step - loss: 0.1894 - accuracy: 0.9242 - val_loss: 0.2817 - val_accuracy: 0.8988\n",
            "Epoch 8/20\n",
            "540/540 [==============================] - 5s 9ms/step - loss: 0.1749 - accuracy: 0.9289 - val_loss: 0.2748 - val_accuracy: 0.8998\n",
            "Epoch 9/20\n",
            "540/540 [==============================] - 5s 9ms/step - loss: 0.1610 - accuracy: 0.9338 - val_loss: 0.2867 - val_accuracy: 0.8976\n",
            "Epoch 10/20\n",
            "540/540 [==============================] - 5s 9ms/step - loss: 0.1507 - accuracy: 0.9366 - val_loss: 0.2939 - val_accuracy: 0.8987\n",
            "Epoch 11/20\n",
            "540/540 [==============================] - 5s 9ms/step - loss: 0.1395 - accuracy: 0.9406 - val_loss: 0.2906 - val_accuracy: 0.9010\n",
            "Epoch 12/20\n",
            "540/540 [==============================] - 5s 10ms/step - loss: 0.1346 - accuracy: 0.9429 - val_loss: 0.3048 - val_accuracy: 0.8986\n",
            "Epoch 13/20\n",
            "540/540 [==============================] - 5s 10ms/step - loss: 0.1274 - accuracy: 0.9445 - val_loss: 0.3210 - val_accuracy: 0.8961\n",
            "Epoch 14/20\n",
            "540/540 [==============================] - 5s 10ms/step - loss: 0.1220 - accuracy: 0.9471 - val_loss: 0.3399 - val_accuracy: 0.8999\n",
            "Epoch 15/20\n",
            "540/540 [==============================] - 5s 9ms/step - loss: 0.1159 - accuracy: 0.9493 - val_loss: 0.3317 - val_accuracy: 0.8973\n",
            "Epoch 16/20\n",
            "540/540 [==============================] - 5s 9ms/step - loss: 0.1096 - accuracy: 0.9524 - val_loss: 0.3622 - val_accuracy: 0.8954\n",
            "Epoch 17/20\n",
            "540/540 [==============================] - 5s 9ms/step - loss: 0.1073 - accuracy: 0.9531 - val_loss: 0.3559 - val_accuracy: 0.8973\n",
            "Epoch 18/20\n",
            "540/540 [==============================] - 5s 9ms/step - loss: 0.0983 - accuracy: 0.9558 - val_loss: 0.3708 - val_accuracy: 0.8998\n",
            "Epoch 19/20\n",
            "540/540 [==============================] - 5s 9ms/step - loss: 0.0985 - accuracy: 0.9569 - val_loss: 0.3959 - val_accuracy: 0.8973\n",
            "Epoch 20/20\n",
            "540/540 [==============================] - 5s 10ms/step - loss: 0.0962 - accuracy: 0.9577 - val_loss: 0.4064 - val_accuracy: 0.8956\n"
          ],
          "name": "stdout"
        }
      ]
    },
    {
      "cell_type": "markdown",
      "metadata": {
        "id": "B5XNPugmik8w",
        "colab_type": "text"
      },
      "source": [
        "##Output"
      ]
    },
    {
      "cell_type": "code",
      "metadata": {
        "id": "ecCA-zZ3KAb2",
        "colab_type": "code",
        "cellView": "both",
        "colab": {
          "base_uri": "https://localhost:8080/",
          "height": 104
        },
        "outputId": "eb8dd5a4-9ea5-42a2-d949-1940fa2c5ece"
      },
      "source": [
        "#@title Save model as HDF5 binary data format\n",
        "\n",
        "model.save(\"plate-recognition/saved-model-base\")"
      ],
      "execution_count": 13,
      "outputs": [
        {
          "output_type": "stream",
          "text": [
            "WARNING:tensorflow:From /usr/local/lib/python3.6/dist-packages/tensorflow/python/ops/resource_variable_ops.py:1817: calling BaseResourceVariable.__init__ (from tensorflow.python.ops.resource_variable_ops) with constraint is deprecated and will be removed in a future version.\n",
            "Instructions for updating:\n",
            "If using Keras pass *_constraint arguments to layers.\n",
            "INFO:tensorflow:Assets written to: plate-recognition/saved-model-base/assets\n"
          ],
          "name": "stdout"
        }
      ]
    },
    {
      "cell_type": "code",
      "metadata": {
        "id": "_iW5mhl6owHR",
        "colab_type": "code",
        "colab": {
          "base_uri": "https://localhost:8080/",
          "height": 50
        },
        "outputId": "eecc7092-028a-4bb3-9b08-9be41efaa1b3"
      },
      "source": [
        "#@title Evaluate model using test set\n",
        "\n",
        "test_eval=model.evaluate(test_X,test_Y_one_hot,verbose=0)\n",
        "print('Test loss:',test_eval[0])\n",
        "print('Test accuracy:',test_eval[1])"
      ],
      "execution_count": 14,
      "outputs": [
        {
          "output_type": "stream",
          "text": [
            "Test loss: 0.40210604667663574\n",
            "Test accuracy: 0.898194432258606\n"
          ],
          "name": "stdout"
        }
      ]
    },
    {
      "cell_type": "code",
      "metadata": {
        "id": "VaVhBSCuKAb9",
        "colab_type": "code",
        "colab": {
          "base_uri": "https://localhost:8080/",
          "height": 545
        },
        "outputId": "acfbbf9b-89b5-4490-e1b0-0b572eadc2b0"
      },
      "source": [
        "#@title Show model accuracy and loss\n",
        "\n",
        "accuracy = train_result.history['accuracy']\n",
        "val_accuracy = train_result.history['val_accuracy']\n",
        "loss = train_result.history['loss']\n",
        "val_loss = train_result.history['val_loss']\n",
        "epochs = range(len(accuracy))\n",
        "plt.plot(epochs, accuracy, label='Training accuracy')\n",
        "plt.plot(epochs, val_accuracy, label='Validation accuracy')\n",
        "plt.title('Training and validation accuracy')\n",
        "plt.legend()\n",
        "plt.figure()\n",
        "plt.plot(epochs, loss, label='Training loss')\n",
        "plt.plot(epochs, val_loss, label='Validation loss')\n",
        "plt.title('Training and validation loss')\n",
        "plt.legend()\n",
        "plt.show()"
      ],
      "execution_count": 15,
      "outputs": [
        {
          "output_type": "display_data",
          "data": {
            "image/png": "[encoded data removed]",
            "text/plain": [
              "<Figure size 432x288 with 1 Axes>"
            ]
          },
          "metadata": {
            "tags": [],
            "needs_background": "light"
          }
        },
        {
          "output_type": "display_data",
          "data": {
            "image/png": "[encoded data removed]",
            "text/plain": [
              "<Figure size 432x288 with 1 Axes>"
            ]
          },
          "metadata": {
            "tags": [],
            "needs_background": "light"
          }
        }
      ]
    },
    {
      "cell_type": "code",
      "metadata": {
        "id": "-6AjeaPyKAcC",
        "colab_type": "code",
        "colab": {
          "base_uri": "https://localhost:8080/",
          "height": 337
        },
        "outputId": "0e22c91b-8613-474d-805c-57c02e18d20d"
      },
      "source": [
        "#@title Check model performance\n",
        "\n",
        "# Test with a new image from outside of EMNIST dataset\n",
        "from PIL import Image\n",
        "new_image = Image.open(r\"/content/plate-recognition/dataset/test-samples/A.png\").convert('L')\n",
        "new_image = new_image.resize((28,28))\n",
        "new_image = np.array(new_image)\n",
        "\n",
        "plt.figure(figsize=[5,5])\n",
        "new_image = new_image.reshape(-1,28,28,1)\n",
        "new_image = new_image.astype('float32')\n",
        "\n",
        "# Make sure that the image contains white letter with black backgrounnd\n",
        "if np.sum(new_image)/(255*28*28)>0.5:\n",
        "    new_image = 255-new_image\n",
        "    \n",
        "plt.imshow(new_image[0,:,:,0],cmap=\"gray\")\n",
        "result = np.argmax(model.predict(new_image/255))\n",
        "if result>=10:\n",
        "    result = chr(result+55) #convert to ASCII\n",
        "    \n",
        "print(result)"
      ],
      "execution_count": 16,
      "outputs": [
        {
          "output_type": "stream",
          "text": [
            "A\n"
          ],
          "name": "stdout"
        },
        {
          "output_type": "display_data",
          "data": {
            "image/png": "[encoded data removed]",
            "text/plain": [
              "<Figure size 360x360 with 1 Axes>"
            ]
          },
          "metadata": {
            "tags": [],
            "needs_background": "light"
          }
        }
      ]
    }
  ]
}