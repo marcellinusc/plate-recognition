{
  "nbformat": 4,
  "nbformat_minor": 0,
  "metadata": {
    "kernelspec": {
      "display_name": "Python 3",
      "language": "python",
      "name": "python3"
    },
    "language_info": {
      "codemirror_mode": {
        "name": "ipython",
        "version": 3
      },
      "file_extension": ".py",
      "mimetype": "text/x-python",
      "name": "python",
      "nbconvert_exporter": "python",
      "pygments_lexer": "ipython3",
      "version": "3.7.7"
    },
    "colab": {
      "name": "emnist.ipynb",
      "provenance": [],
      "collapsed_sections": [],
      "toc_visible": true,
      "include_colab_link": true
    },
    "accelerator": "GPU"
  },
  "cells": [
    {
      "cell_type": "markdown",
      "metadata": {
        "id": "view-in-github",
        "colab_type": "text"
      },
      "source": [
        "<a href=\"https://colab.research.google.com/github/marcellinusc/plate-recognition/blob/branch-2/character-recognition.ipynb\" target=\"_parent\"><img src=\"https://colab.research.google.com/assets/colab-badge.svg\" alt=\"Open In Colab\"/></a>"
      ]
    },
    {
      "cell_type": "markdown",
      "metadata": {
        "id": "v4ZmvEHEtq6K",
        "colab_type": "text"
      },
      "source": [
        "#Character Recognition with CNN using Extended MNIST Balanced Dataset"
      ]
    },
    {
      "cell_type": "markdown",
      "metadata": {
        "id": "Mp-6-IHjNYNi",
        "colab_type": "text"
      },
      "source": [
        "##Initialization"
      ]
    },
    {
      "cell_type": "code",
      "metadata": {
        "id": "vGje3EhlMEtB",
        "colab_type": "code",
        "colab": {
          "base_uri": "https://localhost:8080/",
          "height": 34
        },
        "outputId": "fba17f05-3dd9-4e20-b229-3c0c7eebde28"
      },
      "source": [
        "import tensorflow as tf\n",
        "print(tf.__version__)"
      ],
      "execution_count": 1,
      "outputs": [
        {
          "output_type": "stream",
          "text": [
            "2.2.0\n"
          ],
          "name": "stdout"
        }
      ]
    },
    {
      "cell_type": "code",
      "metadata": {
        "id": "cTzTJXfbHRre",
        "colab_type": "code",
        "colab": {
          "base_uri": "https://localhost:8080/",
          "height": 34
        },
        "outputId": "4306d1b5-b568-4a02-d6f2-3203c14f9d73"
      },
      "source": [
        "!git clone https://github.com/marcellinusc/plate-recognition.git"
      ],
      "execution_count": 2,
      "outputs": [
        {
          "output_type": "stream",
          "text": [
            "fatal: destination path 'plate-recognition' already exists and is not an empty directory.\n"
          ],
          "name": "stdout"
        }
      ]
    },
    {
      "cell_type": "code",
      "metadata": {
        "id": "pk8UYCxIJQDW",
        "colab_type": "code",
        "colab": {
          "base_uri": "https://localhost:8080/",
          "height": 84
        },
        "outputId": "9b44b763-f4d1-4c75-dce9-079b7b1d8b78"
      },
      "source": [
        "!cd plate-recognition && git checkout branch-2"
      ],
      "execution_count": 3,
      "outputs": [
        {
          "output_type": "stream",
          "text": [
            "M\tsaved-model/saved_model.pb\n",
            "M\tsaved-model/variables/variables.index\n",
            "Already on 'branch-2'\n",
            "Your branch is up to date with 'origin/branch-2'.\n"
          ],
          "name": "stdout"
        }
      ]
    },
    {
      "cell_type": "code",
      "metadata": {
        "id": "UZjYriZy6bwQ",
        "colab_type": "code",
        "colab": {
          "base_uri": "https://localhost:8080/",
          "height": 67
        },
        "outputId": "e81b85e5-88be-4872-a453-662098ed6c91"
      },
      "source": [
        "!pip install idx2numpy"
      ],
      "execution_count": 4,
      "outputs": [
        {
          "output_type": "stream",
          "text": [
            "Requirement already satisfied: idx2numpy in /usr/local/lib/python3.6/dist-packages (1.2.2)\n",
            "Requirement already satisfied: numpy in /usr/local/lib/python3.6/dist-packages (from idx2numpy) (1.18.5)\n",
            "Requirement already satisfied: six in /usr/local/lib/python3.6/dist-packages (from idx2numpy) (1.12.0)\n"
          ],
          "name": "stdout"
        }
      ]
    },
    {
      "cell_type": "markdown",
      "metadata": {
        "id": "kI_Cel3iM76Z",
        "colab_type": "text"
      },
      "source": [
        "##Data Preparation"
      ]
    },
    {
      "cell_type": "code",
      "metadata": {
        "id": "ZjYMKxWJKAav",
        "colab_type": "code",
        "cellView": "code",
        "colab": {}
      },
      "source": [
        "#@title Load EMNIST dataset\n",
        "\n",
        "import idx2numpy\n",
        "\n",
        "X_train = idx2numpy.convert_from_file('/content/plate-recognition/dataset/emnist-characters/emnist-balanced-train-images-idx3-ubyte')\n",
        "y_train = idx2numpy.convert_from_file('/content/plate-recognition/dataset/emnist-characters//emnist-balanced-train-labels-idx1-ubyte')\n",
        "\n",
        "X_test = idx2numpy.convert_from_file('/content/plate-recognition/dataset/emnist-characters//emnist-balanced-test-images-idx3-ubyte')\n",
        "y_test = idx2numpy.convert_from_file('/content/plate-recognition/dataset/emnist-characters//emnist-balanced-test-labels-idx1-ubyte')"
      ],
      "execution_count": 5,
      "outputs": []
    },
    {
      "cell_type": "code",
      "metadata": {
        "id": "BA5kAi3MKAa_",
        "colab_type": "code",
        "colab": {
          "base_uri": "https://localhost:8080/",
          "height": 282
        },
        "outputId": "69f9d4eb-bd0f-458d-f71b-ed739cfea4a4"
      },
      "source": [
        "#@title Show image example\n",
        "\n",
        "import matplotlib.pyplot as plt\n",
        "\n",
        "i=169\n",
        "plt.imshow(X_train[i].transpose(),cmap='gray')\n",
        "print(y_train[i])"
      ],
      "execution_count": 6,
      "outputs": [
        {
          "output_type": "stream",
          "text": [
            "12\n"
          ],
          "name": "stdout"
        },
        {
          "output_type": "display_data",
          "data": {
            "image/png": "[encoded data removed]",
            "text/plain": [
              "<Figure size 432x288 with 1 Axes>"
            ]
          },
          "metadata": {
            "tags": [],
            "needs_background": "light"
          }
        }
      ]
    },
    {
      "cell_type": "code",
      "metadata": {
        "id": "SoSPFgwnKAbM",
        "colab_type": "code",
        "colab": {}
      },
      "source": [
        "#@title Filter dataset to only include numbers and capital letters\n",
        "\n",
        "import numpy as np\n",
        "\n",
        "test_X=[]\n",
        "test_Y=[]\n",
        "\n",
        "for i in range(0,len(y_test)):\n",
        "    if 0<=y_test[i]<=35:\n",
        "        test_X.insert(i,X_test[i].transpose())\n",
        "        test_Y.insert(i,y_test[i])\n",
        "\n",
        "test_X=np.array(test_X)\n",
        "test_Y=np.array(test_Y)\n",
        "\n",
        "train_X=[]\n",
        "train_Y=[]\n",
        "\n",
        "for i in range(0,len(y_train)):\n",
        "    if 0<=y_train[i]<=35:\n",
        "        train_X.insert(i,X_train[i].transpose())\n",
        "        train_Y.insert(i,y_train[i])\n",
        "\n",
        "train_X=np.array(train_X)\n",
        "train_Y=np.array(train_Y)"
      ],
      "execution_count": 7,
      "outputs": []
    },
    {
      "cell_type": "code",
      "metadata": {
        "id": "oeM-dDnqKAbU",
        "colab_type": "code",
        "colab": {}
      },
      "source": [
        "#@title Reshape dataset and one-hot-encode the labels\n",
        "\n",
        "from tensorflow.keras.utils import to_categorical\n",
        "\n",
        "train_X = train_X.reshape(-1,28,28,1)\n",
        "test_X = test_X.reshape(-1,28,28,1)\n",
        "\n",
        "train_X = train_X.astype('float32')/255\n",
        "test_X = test_X.astype('float32')/255\n",
        "\n",
        "train_Y_one_hot = to_categorical(train_Y)\n",
        "test_Y_one_hot = to_categorical(test_Y)"
      ],
      "execution_count": 8,
      "outputs": []
    },
    {
      "cell_type": "code",
      "metadata": {
        "id": "YVb1Mn9CKAbb",
        "colab_type": "code",
        "colab": {
          "base_uri": "https://localhost:8080/",
          "height": 54
        },
        "outputId": "46a950f8-c176-4254-f472-2354fc7a2d09"
      },
      "source": [
        "#@title Split 'train' into training set and validation set\n",
        "\n",
        "from sklearn.model_selection import train_test_split\n",
        "train_X,valid_X,train_label,valid_label=train_test_split(train_X,train_Y_one_hot,test_size=0.2,random_state=13)\n",
        "print('new training data shape, new validation data shape, new training label shape, new validation label shape:',train_X.shape,valid_X.shape,train_label.shape,valid_label.shape)"
      ],
      "execution_count": 9,
      "outputs": [
        {
          "output_type": "stream",
          "text": [
            "new training data shape, new validation data shape, new training label shape, new validation label shape: (69120, 28, 28, 1) (17280, 28, 28, 1) (69120, 36) (17280, 36)\n"
          ],
          "name": "stdout"
        }
      ]
    },
    {
      "cell_type": "markdown",
      "metadata": {
        "id": "NuqEn332N3-m",
        "colab_type": "text"
      },
      "source": [
        "##CNN Model"
      ]
    },
    {
      "cell_type": "code",
      "metadata": {
        "id": "JGwMkOeGKAbh",
        "colab_type": "code",
        "colab": {}
      },
      "source": [
        "#@title Build CNN for classifying 0-9 and A-Z characters\n",
        "\n",
        "import tensorflow as tf\n",
        "from tensorflow.keras.models import Sequential,Model\n",
        "from tensorflow.keras.layers import Dense,Dropout,Flatten\n",
        "from tensorflow.keras.layers import Conv2D,MaxPooling2D\n",
        "\n",
        "model = Sequential()\n",
        "model.add(Conv2D(32,kernel_size=(3,3),activation='relu',input_shape=(28,28,1),padding='same'))\n",
        "model.add(MaxPooling2D(pool_size=(2,2),padding='same'))\n",
        "model.add(Dropout(0.3))\n",
        "model.add(Conv2D(64,kernel_size=(3,3),activation='relu',padding='same'))\n",
        "model.add(MaxPooling2D(pool_size=(2,2),padding='same'))\n",
        "model.add(Dropout(0.3))\n",
        "model.add(Conv2D(128,kernel_size=(3,3),activation='relu',padding='same'))\n",
        "model.add(MaxPooling2D(pool_size=(2,2),padding='same'))\n",
        "model.add(Dropout(0.3))\n",
        "model.add(Flatten())\n",
        "model.add(Dense(128,activation='relu'))\n",
        "model.add(Dropout(0.3))\n",
        "model.add(Dense(36,activation='softmax'))"
      ],
      "execution_count": 10,
      "outputs": []
    },
    {
      "cell_type": "code",
      "metadata": {
        "id": "I4kBZc7xKAbn",
        "colab_type": "code",
        "colab": {
          "base_uri": "https://localhost:8080/",
          "height": 588
        },
        "outputId": "75b163ff-67ae-45b6-9f75-92354f1ed8ba"
      },
      "source": [
        "#@title Show model layers\n",
        "\n",
        "model.summary()"
      ],
      "execution_count": 11,
      "outputs": [
        {
          "output_type": "stream",
          "text": [
            "Model: \"sequential\"\n",
            "_________________________________________________________________\n",
            "Layer (type)                 Output Shape              Param #   \n",
            "=================================================================\n",
            "conv2d (Conv2D)              (None, 28, 28, 32)        320       \n",
            "_________________________________________________________________\n",
            "max_pooling2d (MaxPooling2D) (None, 14, 14, 32)        0         \n",
            "_________________________________________________________________\n",
            "dropout (Dropout)            (None, 14, 14, 32)        0         \n",
            "_________________________________________________________________\n",
            "conv2d_1 (Conv2D)            (None, 14, 14, 64)        18496     \n",
            "_________________________________________________________________\n",
            "max_pooling2d_1 (MaxPooling2 (None, 7, 7, 64)          0         \n",
            "_________________________________________________________________\n",
            "dropout_1 (Dropout)          (None, 7, 7, 64)          0         \n",
            "_________________________________________________________________\n",
            "conv2d_2 (Conv2D)            (None, 7, 7, 128)         73856     \n",
            "_________________________________________________________________\n",
            "max_pooling2d_2 (MaxPooling2 (None, 4, 4, 128)         0         \n",
            "_________________________________________________________________\n",
            "dropout_2 (Dropout)          (None, 4, 4, 128)         0         \n",
            "_________________________________________________________________\n",
            "flatten (Flatten)            (None, 2048)              0         \n",
            "_________________________________________________________________\n",
            "dense (Dense)                (None, 128)               262272    \n",
            "_________________________________________________________________\n",
            "dropout_3 (Dropout)          (None, 128)               0         \n",
            "_________________________________________________________________\n",
            "dense_1 (Dense)              (None, 36)                4644      \n",
            "=================================================================\n",
            "Total params: 359,588\n",
            "Trainable params: 359,588\n",
            "Non-trainable params: 0\n",
            "_________________________________________________________________\n"
          ],
          "name": "stdout"
        }
      ]
    },
    {
      "cell_type": "code",
      "metadata": {
        "id": "JY_P8be_KAbv",
        "colab_type": "code",
        "cellView": "both",
        "colab": {
          "base_uri": "https://localhost:8080/",
          "height": 689
        },
        "outputId": "b66cbe65-c666-4956-cbc0-df0be3a6b5bc"
      },
      "source": [
        "#@title Train model\n",
        "\n",
        "batch_size=16\n",
        "epochs=20\n",
        "\n",
        "model.compile(loss='categorical_crossentropy',metrics=['accuracy'],\n",
        "              optimizer='adam')\n",
        "train_result=model.fit(train_X,train_label,\n",
        "                       batch_size=batch_size,epochs=epochs,verbose=1,\n",
        "                       validation_data=(valid_X,valid_label))"
      ],
      "execution_count": 12,
      "outputs": [
        {
          "output_type": "stream",
          "text": [
            "Epoch 1/20\n",
            "4320/4320 [==============================] - 30s 7ms/step - loss: 0.8075 - accuracy: 0.7391 - val_loss: 0.3351 - val_accuracy: 0.8801\n",
            "Epoch 2/20\n",
            "4320/4320 [==============================] - 31s 7ms/step - loss: 0.4507 - accuracy: 0.8428 - val_loss: 0.2818 - val_accuracy: 0.8970\n",
            "Epoch 3/20\n",
            "4320/4320 [==============================] - 31s 7ms/step - loss: 0.3964 - accuracy: 0.8610 - val_loss: 0.2715 - val_accuracy: 0.9008\n",
            "Epoch 4/20\n",
            "4320/4320 [==============================] - 31s 7ms/step - loss: 0.3708 - accuracy: 0.8689 - val_loss: 0.2651 - val_accuracy: 0.8992\n",
            "Epoch 5/20\n",
            "4320/4320 [==============================] - 31s 7ms/step - loss: 0.3546 - accuracy: 0.8736 - val_loss: 0.2597 - val_accuracy: 0.9031\n",
            "Epoch 6/20\n",
            "4320/4320 [==============================] - 31s 7ms/step - loss: 0.3397 - accuracy: 0.8775 - val_loss: 0.2486 - val_accuracy: 0.9076\n",
            "Epoch 7/20\n",
            "4320/4320 [==============================] - 32s 7ms/step - loss: 0.3279 - accuracy: 0.8822 - val_loss: 0.2477 - val_accuracy: 0.9084\n",
            "Epoch 8/20\n",
            "4320/4320 [==============================] - 31s 7ms/step - loss: 0.3174 - accuracy: 0.8848 - val_loss: 0.2401 - val_accuracy: 0.9101\n",
            "Epoch 9/20\n",
            "4320/4320 [==============================] - 31s 7ms/step - loss: 0.3118 - accuracy: 0.8863 - val_loss: 0.2525 - val_accuracy: 0.9063\n",
            "Epoch 10/20\n",
            "4320/4320 [==============================] - 31s 7ms/step - loss: 0.3086 - accuracy: 0.8856 - val_loss: 0.2382 - val_accuracy: 0.9065\n",
            "Epoch 11/20\n",
            "4320/4320 [==============================] - 31s 7ms/step - loss: 0.3055 - accuracy: 0.8870 - val_loss: 0.2376 - val_accuracy: 0.9114\n",
            "Epoch 12/20\n",
            "4320/4320 [==============================] - 31s 7ms/step - loss: 0.3026 - accuracy: 0.8905 - val_loss: 0.2371 - val_accuracy: 0.9121\n",
            "Epoch 13/20\n",
            "4320/4320 [==============================] - 31s 7ms/step - loss: 0.2984 - accuracy: 0.8901 - val_loss: 0.2393 - val_accuracy: 0.9094\n",
            "Epoch 14/20\n",
            "4320/4320 [==============================] - 31s 7ms/step - loss: 0.2966 - accuracy: 0.8911 - val_loss: 0.2468 - val_accuracy: 0.9063\n",
            "Epoch 15/20\n",
            "4320/4320 [==============================] - 31s 7ms/step - loss: 0.2944 - accuracy: 0.8908 - val_loss: 0.2435 - val_accuracy: 0.9073\n",
            "Epoch 16/20\n",
            "4320/4320 [==============================] - 31s 7ms/step - loss: 0.2947 - accuracy: 0.8906 - val_loss: 0.2437 - val_accuracy: 0.9086\n",
            "Epoch 17/20\n",
            "4320/4320 [==============================] - 32s 7ms/step - loss: 0.2878 - accuracy: 0.8937 - val_loss: 0.2372 - val_accuracy: 0.9140\n",
            "Epoch 18/20\n",
            "4320/4320 [==============================] - 31s 7ms/step - loss: 0.2934 - accuracy: 0.8926 - val_loss: 0.2450 - val_accuracy: 0.9102\n",
            "Epoch 19/20\n",
            "4320/4320 [==============================] - 31s 7ms/step - loss: 0.2928 - accuracy: 0.8934 - val_loss: 0.2423 - val_accuracy: 0.9108\n",
            "Epoch 20/20\n",
            "4320/4320 [==============================] - 31s 7ms/step - loss: 0.2918 - accuracy: 0.8925 - val_loss: 0.2416 - val_accuracy: 0.9141\n"
          ],
          "name": "stdout"
        }
      ]
    },
    {
      "cell_type": "markdown",
      "metadata": {
        "id": "B5XNPugmik8w",
        "colab_type": "text"
      },
      "source": [
        "##Output"
      ]
    },
    {
      "cell_type": "code",
      "metadata": {
        "id": "ecCA-zZ3KAb2",
        "colab_type": "code",
        "cellView": "both",
        "colab": {
          "base_uri": "https://localhost:8080/",
          "height": 104
        },
        "outputId": "7fde97d9-dfd7-430e-cb66-51ae49ff6767"
      },
      "source": [
        "#@title Save model as HDF5 binary data format\n",
        "\n",
        "model.save(\"plate-recognition/saved-model\")"
      ],
      "execution_count": 13,
      "outputs": [
        {
          "output_type": "stream",
          "text": [
            "WARNING:tensorflow:From /usr/local/lib/python3.6/dist-packages/tensorflow/python/ops/resource_variable_ops.py:1817: calling BaseResourceVariable.__init__ (from tensorflow.python.ops.resource_variable_ops) with constraint is deprecated and will be removed in a future version.\n",
            "Instructions for updating:\n",
            "If using Keras pass *_constraint arguments to layers.\n",
            "INFO:tensorflow:Assets written to: plate-recognition/saved-model/assets\n"
          ],
          "name": "stdout"
        }
      ]
    },
    {
      "cell_type": "code",
      "metadata": {
        "id": "_iW5mhl6owHR",
        "colab_type": "code",
        "colab": {
          "base_uri": "https://localhost:8080/",
          "height": 50
        },
        "outputId": "ab1b88b6-7212-4f28-8848-4bb94e2c71b2"
      },
      "source": [
        "#@title Evaluate model using test set\n",
        "\n",
        "test_eval=model.evaluate(test_X,test_Y_one_hot,verbose=0)\n",
        "print('Test loss:',test_eval[0])\n",
        "print('Test accuracy:',test_eval[1])"
      ],
      "execution_count": 14,
      "outputs": [
        {
          "output_type": "stream",
          "text": [
            "Test loss: 0.2395636886358261\n",
            "Test accuracy: 0.914513885974884\n"
          ],
          "name": "stdout"
        }
      ]
    },
    {
      "cell_type": "code",
      "metadata": {
        "id": "VaVhBSCuKAb9",
        "colab_type": "code",
        "colab": {
          "base_uri": "https://localhost:8080/",
          "height": 545
        },
        "outputId": "982f2c33-1372-4545-d3a3-ae76607957a1"
      },
      "source": [
        "#@title Show model accuracy and loss\n",
        "\n",
        "accuracy = train_result.history['accuracy']\n",
        "val_accuracy = train_result.history['val_accuracy']\n",
        "loss = train_result.history['loss']\n",
        "val_loss = train_result.history['val_loss']\n",
        "epochs = range(len(accuracy))\n",
        "plt.plot(epochs, accuracy, label='Training accuracy')\n",
        "plt.plot(epochs, val_accuracy, label='Validation accuracy')\n",
        "plt.title('Training and validation accuracy')\n",
        "plt.legend()\n",
        "plt.figure()\n",
        "plt.plot(epochs, loss, label='Training loss')\n",
        "plt.plot(epochs, val_loss, label='Validation loss')\n",
        "plt.title('Training and validation loss')\n",
        "plt.legend()\n",
        "plt.show()"
      ],
      "execution_count": 15,
      "outputs": [
        {
          "output_type": "display_data",
          "data": {
            "image/png": "[encoded data removed]",
            "text/plain": [
              "<Figure size 432x288 with 1 Axes>"
            ]
          },
          "metadata": {
            "tags": [],
            "needs_background": "light"
          }
        },
        {
          "output_type": "display_data",
          "data": {
            "image/png": "[encoded data removed]",
            "text/plain": [
              "<Figure size 432x288 with 1 Axes>"
            ]
          },
          "metadata": {
            "tags": [],
            "needs_background": "light"
          }
        }
      ]
    },
    {
      "cell_type": "code",
      "metadata": {
        "id": "-6AjeaPyKAcC",
        "colab_type": "code",
        "colab": {
          "base_uri": "https://localhost:8080/",
          "height": 337
        },
        "outputId": "bd6353b0-2add-4a10-bd57-bf9afb3216f1"
      },
      "source": [
        "#@title Check model performance\n",
        "\n",
        "# Test with a new image from outside of EMNIST dataset\n",
        "from PIL import Image\n",
        "new_image = Image.open(r\"/content/plate-recognition/dataset/test-samples/A.png\").convert('L')\n",
        "new_image = new_image.resize((28,28))\n",
        "new_image = np.array(new_image)\n",
        "\n",
        "plt.figure(figsize=[5,5])\n",
        "new_image = new_image.reshape(-1,28,28,1)\n",
        "new_image = new_image.astype('float32')\n",
        "\n",
        "# Make sure that the image contains white letter with black backgrounnd\n",
        "if np.sum(new_image)/(255*28*28)>0.5:\n",
        "    new_image = 255-new_image\n",
        "    \n",
        "plt.imshow(new_image[0,:,:,0],cmap=\"gray\")\n",
        "result = np.argmax(model.predict(new_image/255))\n",
        "if result>=10:\n",
        "    result = chr(result+55) #convert to ASCII\n",
        "    \n",
        "print(result)"
      ],
      "execution_count": 16,
      "outputs": [
        {
          "output_type": "stream",
          "text": [
            "A\n"
          ],
          "name": "stdout"
        },
        {
          "output_type": "display_data",
          "data": {
            "image/png": "[encoded data removed]",
            "text/plain": [
              "<Figure size 360x360 with 1 Axes>"
            ]
          },
          "metadata": {
            "tags": [],
            "needs_background": "light"
          }
        }
      ]
    },
    {
      "cell_type": "code",
      "metadata": {
        "id": "BEjUtpZ4a_MM",
        "colab_type": "code",
        "cellView": "both",
        "colab": {
          "base_uri": "https://localhost:8080/",
          "height": 34
        },
        "outputId": "298d07a3-50fa-4770-9e86-e697a424457b"
      },
      "source": [
        "#@title Download saved-model to local directory\n",
        "\n",
        "'''\n",
        "!zip -r /saved-model.zip /content/plate-recognition/saved-model\n",
        "from google.colab import files\n",
        "files.download(\"/saved-model.zip\")\n",
        "'''"
      ],
      "execution_count": 17,
      "outputs": [
        {
          "output_type": "execute_result",
          "data": {
            "text/plain": [
              "'\\n!zip -r /saved-model.zip /content/plate-recognition/saved-model\\nfrom google.colab import files\\nfiles.download(\"/saved-model.zip\")\\n'"
            ]
          },
          "metadata": {
            "tags": []
          },
          "execution_count": 17
        }
      ]
    },
    {
      "cell_type": "code",
      "metadata": {
        "id": "UjiT6kBwQrXO",
        "colab_type": "code",
        "colab": {
          "base_uri": "https://localhost:8080/",
          "height": 252
        },
        "outputId": "0ba4fb8e-c968-4109-ee30-80c842b6739b"
      },
      "source": [
        "#@title Upload saved-model to GCS bucket\n",
        "\n",
        "\n",
        "from google.colab import auth\n",
        "auth.authenticate_user()\n",
        "\n",
        "# https://cloud.google.com/resource-manager/docs/creating-managing-projects\n",
        "project_id = 'plate-recognition-280916'\n",
        "!gcloud config set project {project_id}\n",
        "\n",
        "# Copy the file to our new bucket.\n",
        "# Full reference: https://cloud.google.com/storage/docs/gsutil/commands/cp\n",
        "!gsutil cp -r /content/plate-recognition/saved-model gs://plate-recognition-280916/\n"
      ],
      "execution_count": 19,
      "outputs": [
        {
          "output_type": "stream",
          "text": [
            "Updated property [core/project].\n",
            "Copying file:///content/plate-recognition/saved-model/saved_model.pb [Content-Type=application/octet-stream]...\n",
            "Copying file:///content/plate-recognition/saved-model/variables/variables.index [Content-Type=application/octet-stream]...\n",
            "Copying file:///content/plate-recognition/saved-model/variables/variables.data-00001-of-00002 [Content-Type=application/octet-stream]...\n",
            "Copying file:///content/plate-recognition/saved-model/variables/variables.data-00000-of-00001 [Content-Type=application/octet-stream]...\n",
            "|\n",
            "==> NOTE: You are performing a sequence of gsutil operations that may\n",
            "run significantly faster if you instead use gsutil -m cp ... Please\n",
            "see the -m section under \"gsutil help options\" for further information\n",
            "about when gsutil -m can be advantageous.\n",
            "\n",
            "Copying file:///content/plate-recognition/saved-model/variables/variables.data-00000-of-00002 [Content-Type=application/octet-stream]...\n",
            "| [5 files][ 18.2 MiB/ 18.2 MiB]   19.3 KiB/s                                   \n",
            "Operation completed over 5 objects/18.2 MiB.                                     \n"
          ],
          "name": "stdout"
        }
      ]
    }
  ]
}