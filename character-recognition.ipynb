{
  "nbformat": 4,
  "nbformat_minor": 0,
  "metadata": {
    "kernelspec": {
      "display_name": "Python 3",
      "language": "python",
      "name": "python3"
    },
    "language_info": {
      "codemirror_mode": {
        "name": "ipython",
        "version": 3
      },
      "file_extension": ".py",
      "mimetype": "text/x-python",
      "name": "python",
      "nbconvert_exporter": "python",
      "pygments_lexer": "ipython3",
      "version": "3.7.7"
    },
    "colab": {
      "name": "emnist.ipynb",
      "provenance": [],
      "collapsed_sections": [
        "Mp-6-IHjNYNi",
        "kI_Cel3iM76Z",
        "NuqEn332N3-m",
        "B5XNPugmik8w"
      ],
      "include_colab_link": true
    }
  },
  "cells": [
    {
      "cell_type": "markdown",
      "metadata": {
        "id": "view-in-github",
        "colab_type": "text"
      },
      "source": [
        "<a href=\"https://colab.research.google.com/github/marcellinusc/plate-recognition/blob/branch-2/character-recognition.ipynb\" target=\"_parent\"><img src=\"https://colab.research.google.com/assets/colab-badge.svg\" alt=\"Open In Colab\"/></a>"
      ]
    },
    {
      "cell_type": "markdown",
      "metadata": {
        "id": "v4ZmvEHEtq6K",
        "colab_type": "text"
      },
      "source": [
        "#Character Recognition with CNN using Extended MNIST Balanced Dataset"
      ]
    },
    {
      "cell_type": "markdown",
      "metadata": {
        "id": "Mp-6-IHjNYNi",
        "colab_type": "text"
      },
      "source": [
        "##Initialization"
      ]
    },
    {
      "cell_type": "code",
      "metadata": {
        "id": "vGje3EhlMEtB",
        "colab_type": "code",
        "colab": {
          "base_uri": "https://localhost:8080/",
          "height": 34
        },
        "outputId": "6729462a-a112-4849-e9a6-40e33939f6e1"
      },
      "source": [
        "import tensorflow as tf\n",
        "print(tf.__version__)"
      ],
      "execution_count": 1,
      "outputs": [
        {
          "output_type": "stream",
          "text": [
            "2.2.0\n"
          ],
          "name": "stdout"
        }
      ]
    },
    {
      "cell_type": "code",
      "metadata": {
        "id": "cTzTJXfbHRre",
        "colab_type": "code",
        "colab": {
          "base_uri": "https://localhost:8080/",
          "height": 136
        },
        "outputId": "0a37e103-e73c-4d83-97fb-a42a217498ea"
      },
      "source": [
        "!git clone https://github.com/marcellinusc/plate-recognition.git"
      ],
      "execution_count": 2,
      "outputs": [
        {
          "output_type": "stream",
          "text": [
            "Cloning into 'plate-recognition'...\n",
            "remote: Enumerating objects: 6, done.\u001b[K\n",
            "remote: Counting objects: 100% (6/6), done.\u001b[K\n",
            "remote: Compressing objects: 100% (6/6), done.\u001b[K\n",
            "remote: Total 778 (delta 2), reused 0 (delta 0), pack-reused 772\u001b[K\n",
            "Receiving objects: 100% (778/778), 108.33 MiB | 31.23 MiB/s, done.\n",
            "Resolving deltas: 100% (42/42), done.\n"
          ],
          "name": "stdout"
        }
      ]
    },
    {
      "cell_type": "code",
      "metadata": {
        "id": "pk8UYCxIJQDW",
        "colab_type": "code",
        "colab": {
          "base_uri": "https://localhost:8080/",
          "height": 68
        },
        "outputId": "7d3d5c34-9e94-4643-b3e8-ef1fd6be50d1"
      },
      "source": [
        "!cd plate-recognition && git checkout branch-2"
      ],
      "execution_count": 3,
      "outputs": [
        {
          "output_type": "stream",
          "text": [
            "Checking out files:  86% (577/670)   \rChecking out files:  87% (583/670)   \rChecking out files:  88% (590/670)   \rChecking out files:  89% (597/670)   \rChecking out files:  90% (603/670)   \rChecking out files:  91% (610/670)   \rChecking out files:  92% (617/670)   \rChecking out files:  93% (624/670)   \rChecking out files:  94% (630/670)   \rChecking out files:  95% (637/670)   \rChecking out files:  96% (644/670)   \rChecking out files:  97% (650/670)   \rChecking out files:  98% (657/670)   \rChecking out files:  99% (664/670)   \rChecking out files: 100% (670/670)   \rChecking out files: 100% (670/670), done.\n",
            "Branch 'branch-2' set up to track remote branch 'branch-2' from 'origin'.\n",
            "Switched to a new branch 'branch-2'\n"
          ],
          "name": "stdout"
        }
      ]
    },
    {
      "cell_type": "code",
      "metadata": {
        "id": "UZjYriZy6bwQ",
        "colab_type": "code",
        "colab": {
          "base_uri": "https://localhost:8080/",
          "height": 224
        },
        "outputId": "d801f5c7-871d-4280-cd12-5bad7c230ffd"
      },
      "source": [
        "!pip install idx2numpy"
      ],
      "execution_count": 5,
      "outputs": [
        {
          "output_type": "stream",
          "text": [
            "Collecting idx2numpy\n",
            "  Downloading https://files.pythonhosted.org/packages/23/6b/abab4652eb249f432c62431907c8de32bdcedb5abdf869ff86653efff981/idx2numpy-1.2.2.tar.gz\n",
            "Requirement already satisfied: numpy in /usr/local/lib/python3.6/dist-packages (from idx2numpy) (1.18.5)\n",
            "Requirement already satisfied: six in /usr/local/lib/python3.6/dist-packages (from idx2numpy) (1.12.0)\n",
            "Building wheels for collected packages: idx2numpy\n",
            "  Building wheel for idx2numpy (setup.py) ... \u001b[?25l\u001b[?25hdone\n",
            "  Created wheel for idx2numpy: filename=idx2numpy-1.2.2-cp36-none-any.whl size=8032 sha256=516bf84fccb08fb044d0cdf12173e1cfc7086fa02cf1cbe812edf329fb37d27d\n",
            "  Stored in directory: /root/.cache/pip/wheels/7a/b5/69/3e0757b3086607e95db70661798fdf98a77a0bb79c54e1f320\n",
            "Successfully built idx2numpy\n",
            "Installing collected packages: idx2numpy\n",
            "Successfully installed idx2numpy-1.2.2\n"
          ],
          "name": "stdout"
        }
      ]
    },
    {
      "cell_type": "markdown",
      "metadata": {
        "id": "kI_Cel3iM76Z",
        "colab_type": "text"
      },
      "source": [
        "##Data Preparation"
      ]
    },
    {
      "cell_type": "code",
      "metadata": {
        "id": "ZjYMKxWJKAav",
        "colab_type": "code",
        "cellView": "code",
        "colab": {}
      },
      "source": [
        "#@title Load EMNIST dataset\n",
        "\n",
        "import idx2numpy\n",
        "\n",
        "X_train = idx2numpy.convert_from_file('/content/plate-recognition/dataset/emnist-characters/emnist-balanced-train-images-idx3-ubyte')\n",
        "y_train = idx2numpy.convert_from_file('/content/plate-recognition/dataset/emnist-characters//emnist-balanced-train-labels-idx1-ubyte')\n",
        "\n",
        "X_test = idx2numpy.convert_from_file('/content/plate-recognition/dataset/emnist-characters//emnist-balanced-test-images-idx3-ubyte')\n",
        "y_test = idx2numpy.convert_from_file('/content/plate-recognition/dataset/emnist-characters//emnist-balanced-test-labels-idx1-ubyte')"
      ],
      "execution_count": 9,
      "outputs": []
    },
    {
      "cell_type": "code",
      "metadata": {
        "id": "BA5kAi3MKAa_",
        "colab_type": "code",
        "colab": {
          "base_uri": "https://localhost:8080/",
          "height": 282
        },
        "outputId": "407aded6-94b0-481b-af1f-86c8fe99fbe9"
      },
      "source": [
        "#@title Show image example\n",
        "\n",
        "import matplotlib.pyplot as plt\n",
        "\n",
        "i=169\n",
        "plt.imshow(X_train[i].transpose(),cmap='gray')\n",
        "print(y_train[i])"
      ],
      "execution_count": 10,
      "outputs": [
        {
          "output_type": "stream",
          "text": [
            "12\n"
          ],
          "name": "stdout"
        },
        {
          "output_type": "display_data",
          "data": {
            "image/png": "[encoded data removed]",
            "text/plain": [
              "<Figure size 432x288 with 1 Axes>"
            ]
          },
          "metadata": {
            "tags": [],
            "needs_background": "light"
          }
        }
      ]
    },
    {
      "cell_type": "code",
      "metadata": {
        "id": "SoSPFgwnKAbM",
        "colab_type": "code",
        "colab": {}
      },
      "source": [
        "#@title Filter dataset to only include numbers and capital letters\n",
        "\n",
        "import numpy as np\n",
        "\n",
        "test_X=[]\n",
        "test_Y=[]\n",
        "\n",
        "for i in range(0,len(y_test)):\n",
        "    if 0<=y_test[i]<=35:\n",
        "        test_X.insert(i,X_test[i].transpose())\n",
        "        test_Y.insert(i,y_test[i])\n",
        "\n",
        "test_X=np.array(test_X)\n",
        "test_Y=np.array(test_Y)\n",
        "\n",
        "train_X=[]\n",
        "train_Y=[]\n",
        "\n",
        "for i in range(0,len(y_train)):\n",
        "    if 0<=y_train[i]<=35:\n",
        "        train_X.insert(i,X_train[i].transpose())\n",
        "        train_Y.insert(i,y_train[i])\n",
        "\n",
        "train_X=np.array(train_X)\n",
        "train_Y=np.array(train_Y)"
      ],
      "execution_count": 11,
      "outputs": []
    },
    {
      "cell_type": "code",
      "metadata": {
        "id": "oeM-dDnqKAbU",
        "colab_type": "code",
        "colab": {}
      },
      "source": [
        "#@title Reshape dataset and one-hot-encode the labels\n",
        "\n",
        "from tensorflow.keras.utils import to_categorical\n",
        "\n",
        "train_X = train_X.reshape(-1,28,28,1)\n",
        "test_X = test_X.reshape(-1,28,28,1)\n",
        "\n",
        "train_X = train_X.astype('float32')\n",
        "test_X = test_X.astype('float32')\n",
        "\n",
        "train_Y_one_hot = to_categorical(train_Y)\n",
        "test_Y_one_hot = to_categorical(test_Y)"
      ],
      "execution_count": 12,
      "outputs": []
    },
    {
      "cell_type": "code",
      "metadata": {
        "id": "YVb1Mn9CKAbb",
        "colab_type": "code",
        "colab": {
          "base_uri": "https://localhost:8080/",
          "height": 54
        },
        "outputId": "3a36e667-222f-4314-dfd9-e9cc50a85ccb"
      },
      "source": [
        "#@title Split 'train' into training set and validation set\n",
        "\n",
        "from sklearn.model_selection import train_test_split\n",
        "train_X,valid_X,train_label,valid_label=train_test_split(train_X,train_Y_one_hot,test_size=0.2,random_state=13)\n",
        "print('new training data shape, new validation data shape, new training label shape, new validation label shape:',train_X.shape,valid_X.shape,train_label.shape,valid_label.shape)"
      ],
      "execution_count": 13,
      "outputs": [
        {
          "output_type": "stream",
          "text": [
            "new training data shape, new validation data shape, new training label shape, new validation label shape: (69120, 28, 28, 1) (17280, 28, 28, 1) (69120, 36) (17280, 36)\n"
          ],
          "name": "stdout"
        }
      ]
    },
    {
      "cell_type": "markdown",
      "metadata": {
        "id": "NuqEn332N3-m",
        "colab_type": "text"
      },
      "source": [
        "##CNN Model"
      ]
    },
    {
      "cell_type": "code",
      "metadata": {
        "id": "JGwMkOeGKAbh",
        "colab_type": "code",
        "colab": {}
      },
      "source": [
        "#@title Build CNN for classifying 0-9 and A-Z characters\n",
        "\n",
        "import tensorflow as tf\n",
        "from tensorflow.keras.models import Sequential,Model\n",
        "from tensorflow.keras.layers import Dense,Dropout,Flatten\n",
        "from tensorflow.keras.layers import Conv2D,MaxPooling2D\n",
        "\n",
        "num_classes=36\n",
        "\n",
        "model = tf.keras.models.Sequential()\n",
        "model.add(Conv2D(32,kernel_size=(3,3),activation='relu',input_shape=(28,28,1),padding='same'))\n",
        "model.add(MaxPooling2D(pool_size=(2,2),padding='same'))\n",
        "model.add(Conv2D(64,kernel_size=(3,3),activation='relu',padding='same'))\n",
        "model.add(MaxPooling2D(pool_size=(2,2),padding='same'))\n",
        "model.add(Conv2D(128,kernel_size=(3,3),activation='relu',padding='same'))\n",
        "model.add(MaxPooling2D(pool_size=(2,2),padding='same'))\n",
        "model.add(Flatten())\n",
        "model.add(Dense(512,activation='relu'))\n",
        "model.add(Dense(128,activation='relu'))\n",
        "model.add(Dropout(0.2))\n",
        "model.add(Dense(36,activation='softmax'))"
      ],
      "execution_count": 14,
      "outputs": []
    },
    {
      "cell_type": "code",
      "metadata": {
        "id": "I4kBZc7xKAbn",
        "colab_type": "code",
        "colab": {
          "base_uri": "https://localhost:8080/",
          "height": 527
        },
        "outputId": "8c4940ca-cc0b-4104-d298-073dd4315ee5"
      },
      "source": [
        "#@title Show model layers\n",
        "\n",
        "model.summary()"
      ],
      "execution_count": 15,
      "outputs": [
        {
          "output_type": "stream",
          "text": [
            "Model: \"sequential\"\n",
            "_________________________________________________________________\n",
            "Layer (type)                 Output Shape              Param #   \n",
            "=================================================================\n",
            "conv2d (Conv2D)              (None, 28, 28, 32)        320       \n",
            "_________________________________________________________________\n",
            "max_pooling2d (MaxPooling2D) (None, 14, 14, 32)        0         \n",
            "_________________________________________________________________\n",
            "conv2d_1 (Conv2D)            (None, 14, 14, 64)        18496     \n",
            "_________________________________________________________________\n",
            "max_pooling2d_1 (MaxPooling2 (None, 7, 7, 64)          0         \n",
            "_________________________________________________________________\n",
            "conv2d_2 (Conv2D)            (None, 7, 7, 128)         73856     \n",
            "_________________________________________________________________\n",
            "max_pooling2d_2 (MaxPooling2 (None, 4, 4, 128)         0         \n",
            "_________________________________________________________________\n",
            "flatten (Flatten)            (None, 2048)              0         \n",
            "_________________________________________________________________\n",
            "dense (Dense)                (None, 512)               1049088   \n",
            "_________________________________________________________________\n",
            "dense_1 (Dense)              (None, 128)               65664     \n",
            "_________________________________________________________________\n",
            "dropout (Dropout)            (None, 128)               0         \n",
            "_________________________________________________________________\n",
            "dense_2 (Dense)              (None, 36)                4644      \n",
            "=================================================================\n",
            "Total params: 1,212,068\n",
            "Trainable params: 1,212,068\n",
            "Non-trainable params: 0\n",
            "_________________________________________________________________\n"
          ],
          "name": "stdout"
        }
      ]
    },
    {
      "cell_type": "code",
      "metadata": {
        "id": "JY_P8be_KAbv",
        "colab_type": "code",
        "cellView": "both",
        "colab": {
          "base_uri": "https://localhost:8080/",
          "height": 207
        },
        "outputId": "a06d274c-c940-47e1-b4e2-cc8dc7a72672"
      },
      "source": [
        "#@title Train model\n",
        "\n",
        "batch_size=32\n",
        "epochs=5\n",
        "\n",
        "model.compile(loss='categorical_crossentropy',metrics=['accuracy'],optimizer='adam')\n",
        "train_result=model.fit(train_X,train_label,\n",
        "                       batch_size=batch_size,epochs=epochs,verbose=1,\n",
        "                       validation_data=(valid_X,valid_label))"
      ],
      "execution_count": 16,
      "outputs": [
        {
          "output_type": "stream",
          "text": [
            "Epoch 1/5\n",
            "2160/2160 [==============================] - 149s 69ms/step - loss: 0.7594 - accuracy: 0.7778 - val_loss: 0.3276 - val_accuracy: 0.8821\n",
            "Epoch 2/5\n",
            "2160/2160 [==============================] - 149s 69ms/step - loss: 0.3373 - accuracy: 0.8810 - val_loss: 0.3470 - val_accuracy: 0.8789\n",
            "Epoch 3/5\n",
            "2160/2160 [==============================] - 146s 67ms/step - loss: 0.2952 - accuracy: 0.8938 - val_loss: 0.2922 - val_accuracy: 0.8937\n",
            "Epoch 4/5\n",
            "2160/2160 [==============================] - 147s 68ms/step - loss: 0.2639 - accuracy: 0.9030 - val_loss: 0.2874 - val_accuracy: 0.9002\n",
            "Epoch 5/5\n",
            "2160/2160 [==============================] - 141s 65ms/step - loss: 0.2465 - accuracy: 0.9081 - val_loss: 0.2818 - val_accuracy: 0.9017\n"
          ],
          "name": "stdout"
        }
      ]
    },
    {
      "cell_type": "markdown",
      "metadata": {
        "id": "B5XNPugmik8w",
        "colab_type": "text"
      },
      "source": [
        "##Output"
      ]
    },
    {
      "cell_type": "code",
      "metadata": {
        "id": "ecCA-zZ3KAb2",
        "colab_type": "code",
        "cellView": "both",
        "colab": {
          "base_uri": "https://localhost:8080/",
          "height": 34
        },
        "outputId": "fab9056b-429b-4803-b653-d2cea1c35af1"
      },
      "source": [
        "#@title Save model as HDF5 binary data format\n",
        "\n",
        "model.save(\"plate-recognition/saved-model\")"
      ],
      "execution_count": 31,
      "outputs": [
        {
          "output_type": "stream",
          "text": [
            "INFO:tensorflow:Assets written to: plate-recognition/saved-model/assets\n"
          ],
          "name": "stdout"
        }
      ]
    },
    {
      "cell_type": "code",
      "metadata": {
        "id": "_iW5mhl6owHR",
        "colab_type": "code",
        "colab": {
          "base_uri": "https://localhost:8080/",
          "height": 51
        },
        "outputId": "eb5b16f2-9068-4d49-f4e8-fab801e70b8d"
      },
      "source": [
        "#@title Evaluate model using test set\n",
        "\n",
        "test_eval=model.evaluate(test_X,test_Y_one_hot,verbose=0)\n",
        "print('Test loss:',test_eval[0])\n",
        "print('Test accuracy:',test_eval[1])"
      ],
      "execution_count": 18,
      "outputs": [
        {
          "output_type": "stream",
          "text": [
            "Test loss: 0.2834009826183319\n",
            "Test accuracy: 0.9052083492279053\n"
          ],
          "name": "stdout"
        }
      ]
    },
    {
      "cell_type": "code",
      "metadata": {
        "id": "VaVhBSCuKAb9",
        "colab_type": "code",
        "colab": {
          "base_uri": "https://localhost:8080/",
          "height": 545
        },
        "outputId": "133c9eed-c9d5-4b9c-bdae-7ebd85b5970d"
      },
      "source": [
        "#@title Show model accuracy and loss\n",
        "\n",
        "accuracy = train_result.history['accuracy']\n",
        "val_accuracy = train_result.history['val_accuracy']\n",
        "loss = train_result.history['loss']\n",
        "val_loss = train_result.history['val_loss']\n",
        "epochs = range(len(accuracy))\n",
        "plt.plot(epochs, accuracy, label='Training accuracy')\n",
        "plt.plot(epochs, val_accuracy, label='Validation accuracy')\n",
        "plt.title('Training and validation accuracy')\n",
        "plt.legend()\n",
        "plt.figure()\n",
        "plt.plot(epochs, loss, label='Training loss')\n",
        "plt.plot(epochs, val_loss, label='Validation loss')\n",
        "plt.title('Training and validation loss')\n",
        "plt.legend()\n",
        "plt.show()"
      ],
      "execution_count": 19,
      "outputs": [
        {
          "output_type": "display_data",
          "data": {
            "image/png": "[encoded data removed]",
            "text/plain": [
              "<Figure size 432x288 with 1 Axes>"
            ]
          },
          "metadata": {
            "tags": [],
            "needs_background": "light"
          }
        },
        {
          "output_type": "display_data",
          "data": {
            "image/png": "[encoded data removed]",
            "text/plain": [
              "<Figure size 432x288 with 1 Axes>"
            ]
          },
          "metadata": {
            "tags": [],
            "needs_background": "light"
          }
        }
      ]
    },
    {
      "cell_type": "code",
      "metadata": {
        "id": "-6AjeaPyKAcC",
        "colab_type": "code",
        "colab": {
          "base_uri": "https://localhost:8080/",
          "height": 337
        },
        "outputId": "74e8e6cf-a086-47b9-fb5f-c7e9579ba17b"
      },
      "source": [
        "#@title Check model performance\n",
        "\n",
        "# Test with a new image from outside of EMNIST dataset\n",
        "from PIL import Image\n",
        "new_image = Image.open(r\"/content/plate-recognition/dataset/test-samples/A.png\").convert('L')\n",
        "new_image = new_image.resize((28,28))\n",
        "new_image = np.array(new_image)\n",
        "\n",
        "plt.figure(figsize=[5,5])\n",
        "new_image = new_image.reshape(-1,28,28,1)\n",
        "new_image = new_image.astype('float32')\n",
        "\n",
        "# Make sure that the image contains white letter with black backgrounnd\n",
        "if np.sum(new_image)/(255*28*28)>0.5:\n",
        "    new_image = 255-new_image\n",
        "    \n",
        "plt.imshow(new_image[0,:,:,0],cmap=\"gray\")\n",
        "result = np.argmax(model.predict(new_image))\n",
        "if result>=10:\n",
        "    result = chr(result+55) #convert to ASCII\n",
        "    \n",
        "print(result)"
      ],
      "execution_count": 22,
      "outputs": [
        {
          "output_type": "stream",
          "text": [
            "A\n"
          ],
          "name": "stdout"
        },
        {
          "output_type": "display_data",
          "data": {
            "image/png": "[encoded data removed]",
            "text/plain": [
              "<Figure size 360x360 with 1 Axes>"
            ]
          },
          "metadata": {
            "tags": [],
            "needs_background": "light"
          }
        }
      ]
    }
  ]
}