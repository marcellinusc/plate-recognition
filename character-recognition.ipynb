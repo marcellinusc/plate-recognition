{
  "nbformat": 4,
  "nbformat_minor": 0,
  "metadata": {
    "kernelspec": {
      "display_name": "Python 3",
      "language": "python",
      "name": "python3"
    },
    "language_info": {
      "codemirror_mode": {
        "name": "ipython",
        "version": 3
      },
      "file_extension": ".py",
      "mimetype": "text/x-python",
      "name": "python",
      "nbconvert_exporter": "python",
      "pygments_lexer": "ipython3",
      "version": "3.7.7"
    },
    "colab": {
      "name": "emnist.ipynb",
      "provenance": [],
      "collapsed_sections": [
        "Mp-6-IHjNYNi",
        "kI_Cel3iM76Z",
        "NuqEn332N3-m",
        "B5XNPugmik8w"
      ],
      "include_colab_link": true
    }
  },
  "cells": [
    {
      "cell_type": "markdown",
      "metadata": {
        "id": "view-in-github",
        "colab_type": "text"
      },
      "source": [
        "<a href=\"https://colab.research.google.com/github/marcellinusc/plate-recognition/blob/master/character-recognition.ipynb\" target=\"_parent\"><img src=\"https://colab.research.google.com/assets/colab-badge.svg\" alt=\"Open In Colab\"/></a>"
      ]
    },
    {
      "cell_type": "markdown",
      "metadata": {
        "id": "v4ZmvEHEtq6K",
        "colab_type": "text"
      },
      "source": [
        "#Character Recognition with CNN using Extended MNIST Balanced Dataset"
      ]
    },
    {
      "cell_type": "markdown",
      "metadata": {
        "id": "Mp-6-IHjNYNi",
        "colab_type": "text"
      },
      "source": [
        "##Initialization"
      ]
    },
    {
      "cell_type": "code",
      "metadata": {
        "id": "vGje3EhlMEtB",
        "colab_type": "code",
        "colab": {}
      },
      "source": [
        "import tensorflow as tf\n",
        "print(tf.__version__)"
      ],
      "execution_count": null,
      "outputs": []
    },
    {
      "cell_type": "markdown",
      "metadata": {
        "id": "kI_Cel3iM76Z",
        "colab_type": "text"
      },
      "source": [
        "##Data Preparation"
      ]
    },
    {
      "cell_type": "code",
      "metadata": {
        "id": "ZjYMKxWJKAav",
        "colab_type": "code",
        "cellView": "both",
        "colab": {}
      },
      "source": [
        "#@title Load EMNIST dataset\n",
        "\n",
        "import idx2numpy\n",
        "\n",
        "X_train = idx2numpy.convert_from_file('./emnist-balanced-train-images-idx3-ubyte')\n",
        "y_train = idx2numpy.convert_from_file('./emnist-balanced-train-labels-idx1-ubyte')\n",
        "\n",
        "X_test = idx2numpy.convert_from_file('./emnist-balanced-test-images-idx3-ubyte')\n",
        "y_test = idx2numpy.convert_from_file('./emnist-balanced-test-labels-idx1-ubyte')"
      ],
      "execution_count": null,
      "outputs": []
    },
    {
      "cell_type": "code",
      "metadata": {
        "id": "BA5kAi3MKAa_",
        "colab_type": "code",
        "colab": {},
        "outputId": "fcb19cf3-7f0e-495b-d292-627d59bf5ac1"
      },
      "source": [
        "#@title Show image example\n",
        "\n",
        "import matplotlib.pyplot as plt\n",
        "\n",
        "i=169\n",
        "plt.imshow(X_train[i].transpose(),cmap='gray')\n",
        "print(y_train[i])"
      ],
      "execution_count": null,
      "outputs": [
        {
          "output_type": "stream",
          "text": [
            "12\n"
          ],
          "name": "stdout"
        },
        {
          "output_type": "display_data",
          "data": {
            "image/png": "[encoded data removed]",
            "text/plain": [
              "<Figure size 432x288 with 1 Axes>"
            ]
          },
          "metadata": {
            "tags": [],
            "needs_background": "light"
          }
        }
      ]
    },
    {
      "cell_type": "code",
      "metadata": {
        "id": "SoSPFgwnKAbM",
        "colab_type": "code",
        "colab": {}
      },
      "source": [
        "#@title Filter dataset to only include numbers and capital letters\n",
        "\n",
        "import numpy as np\n",
        "\n",
        "test_X=[]\n",
        "test_Y=[]\n",
        "\n",
        "for i in range(0,len(y_test)):\n",
        "    if 0<=y_test[i]<=35:\n",
        "        test_X.insert(i,X_test[i].transpose())\n",
        "        test_Y.insert(i,y_test[i])\n",
        "\n",
        "test_X=np.array(test_X)\n",
        "test_Y=np.array(test_Y)\n",
        "\n",
        "train_X=[]\n",
        "train_Y=[]\n",
        "\n",
        "for i in range(0,len(y_train)):\n",
        "    if 0<=y_train[i]<=35:\n",
        "        train_X.insert(i,X_train[i].transpose())\n",
        "        train_Y.insert(i,y_train[i])\n",
        "\n",
        "train_X=np.array(train_X)\n",
        "train_Y=np.array(train_Y)"
      ],
      "execution_count": null,
      "outputs": []
    },
    {
      "cell_type": "code",
      "metadata": {
        "id": "oeM-dDnqKAbU",
        "colab_type": "code",
        "colab": {}
      },
      "source": [
        "#@title Reshape dataset and one-hot-encode the labels\n",
        "\n",
        "from tensorflow.keras.utils import to_categorical\n",
        "\n",
        "train_X = train_X.reshape(-1,28,28,1)\n",
        "test_X = test_X.reshape(-1,28,28,1)\n",
        "\n",
        "train_X = train_X.astype('float32')\n",
        "test_X = test_X.astype('float32')\n",
        "\n",
        "train_Y_one_hot = to_categorical(train_Y)\n",
        "test_Y_one_hot = to_categorical(test_Y)"
      ],
      "execution_count": null,
      "outputs": []
    },
    {
      "cell_type": "code",
      "metadata": {
        "id": "YVb1Mn9CKAbb",
        "colab_type": "code",
        "colab": {},
        "outputId": "71163180-d833-4c09-9c87-bab19185e7c0"
      },
      "source": [
        "#@title Split 'train' into training set and validation set\n",
        "\n",
        "from sklearn.model_selection import train_test_split\n",
        "train_X,valid_X,train_label,valid_label=train_test_split(train_X,train_Y_one_hot,test_size=0.2,random_state=13)\n",
        "print('new training data shape, new validation data shape, new training label shape, new validation label shape:',train_X.shape,valid_X.shape,train_label.shape,valid_label.shape)"
      ],
      "execution_count": null,
      "outputs": [
        {
          "output_type": "stream",
          "text": [
            "new training data shape, new validation data shape, new training label shape, new validation label shape: (69120, 28, 28, 1) (17280, 28, 28, 1) (69120, 36) (17280, 36)\n"
          ],
          "name": "stdout"
        }
      ]
    },
    {
      "cell_type": "markdown",
      "metadata": {
        "id": "NuqEn332N3-m",
        "colab_type": "text"
      },
      "source": [
        "##CNN Model"
      ]
    },
    {
      "cell_type": "code",
      "metadata": {
        "id": "JGwMkOeGKAbh",
        "colab_type": "code",
        "colab": {}
      },
      "source": [
        "#@title Build CNN for classifying 0-9 and A-Z characters\n",
        "\n",
        "import tensorflow as tf\n",
        "from tensorflow.keras.models import Sequential,Model\n",
        "from tensorflow.keras.layers import Dense,Dropout,Flatten\n",
        "from tensorflow.keras.layers import Conv2D,MaxPooling2D\n",
        "\n",
        "num_classes=36\n",
        "\n",
        "model = tf.keras.models.Sequential()\n",
        "model.add(Conv2D(32,kernel_size=(3,3),activation='relu',input_shape=(28,28,1),padding='same'))\n",
        "model.add(MaxPooling2D(pool_size=(2,2),padding='same'))\n",
        "model.add(Conv2D(64,kernel_size=(3,3),activation='relu',padding='same'))\n",
        "model.add(MaxPooling2D(pool_size=(2,2),padding='same'))\n",
        "model.add(Conv2D(128,kernel_size=(3,3),activation='relu',padding='same'))\n",
        "model.add(MaxPooling2D(pool_size=(2,2),padding='same'))\n",
        "model.add(Flatten())\n",
        "model.add(Dense(512,activation='relu'))\n",
        "model.add(Dense(128,activation='relu'))\n",
        "model.add(Dropout(0.2))\n",
        "model.add(Dense(36,activation='softmax'))"
      ],
      "execution_count": null,
      "outputs": []
    },
    {
      "cell_type": "code",
      "metadata": {
        "id": "I4kBZc7xKAbn",
        "colab_type": "code",
        "colab": {},
        "outputId": "66d7eb55-fc77-4119-e933-fd712c471d56"
      },
      "source": [
        "#@title Show model layers\n",
        "\n",
        "model.summary()"
      ],
      "execution_count": null,
      "outputs": [
        {
          "output_type": "stream",
          "text": [
            "Model: \"sequential\"\n",
            "_________________________________________________________________\n",
            "Layer (type)                 Output Shape              Param #   \n",
            "=================================================================\n",
            "conv2d (Conv2D)              (None, 28, 28, 32)        320       \n",
            "_________________________________________________________________\n",
            "max_pooling2d (MaxPooling2D) (None, 14, 14, 32)        0         \n",
            "_________________________________________________________________\n",
            "conv2d_1 (Conv2D)            (None, 14, 14, 64)        18496     \n",
            "_________________________________________________________________\n",
            "max_pooling2d_1 (MaxPooling2 (None, 7, 7, 64)          0         \n",
            "_________________________________________________________________\n",
            "conv2d_2 (Conv2D)            (None, 7, 7, 128)         73856     \n",
            "_________________________________________________________________\n",
            "max_pooling2d_2 (MaxPooling2 (None, 4, 4, 128)         0         \n",
            "_________________________________________________________________\n",
            "flatten (Flatten)            (None, 2048)              0         \n",
            "_________________________________________________________________\n",
            "dense (Dense)                (None, 512)               1049088   \n",
            "_________________________________________________________________\n",
            "dense_1 (Dense)              (None, 128)               65664     \n",
            "_________________________________________________________________\n",
            "dropout (Dropout)            (None, 128)               0         \n",
            "_________________________________________________________________\n",
            "dense_2 (Dense)              (None, 36)                4644      \n",
            "=================================================================\n",
            "Total params: 1,212,068\n",
            "Trainable params: 1,212,068\n",
            "Non-trainable params: 0\n",
            "_________________________________________________________________\n"
          ],
          "name": "stdout"
        }
      ]
    },
    {
      "cell_type": "code",
      "metadata": {
        "id": "JY_P8be_KAbv",
        "colab_type": "code",
        "cellView": "both",
        "colab": {},
        "outputId": "8d18c138-a178-4652-a626-e53bdb121161"
      },
      "source": [
        "#@title Train model\n",
        "\n",
        "batch_size=32\n",
        "epochs=5\n",
        "\n",
        "model.compile(loss='categorical_crossentropy',metrics=['accuracy'],optimizer='adam')\n",
        "train_result=model.fit(train_X,train_label,\n",
        "                       batch_size=batch_size,epochs=epochs,verbose=1,\n",
        "                       validation_data=(valid_X,valid_label))"
      ],
      "execution_count": null,
      "outputs": [
        {
          "output_type": "stream",
          "text": [
            "Train on 69120 samples, validate on 17280 samples\n",
            "Epoch 1/5\n",
            "69120/69120 [==============================] - 99s 1ms/sample - loss: 0.7203 - accuracy: 0.7848 - val_loss: 0.3516 - val_accuracy: 0.8699\n",
            "Epoch 2/5\n",
            "69120/69120 [==============================] - 97s 1ms/sample - loss: 0.3379 - accuracy: 0.8804 - val_loss: 0.3042 - val_accuracy: 0.8906\n",
            "Epoch 3/5\n",
            "69120/69120 [==============================] - 97s 1ms/sample - loss: 0.2923 - accuracy: 0.8929 - val_loss: 0.3164 - val_accuracy: 0.8895\n",
            "Epoch 4/5\n",
            "69120/69120 [==============================] - 134s 2ms/sample - loss: 0.2657 - accuracy: 0.9026 - val_loss: 0.2879 - val_accuracy: 0.8970\n",
            "Epoch 5/5\n",
            "69120/69120 [==============================] - 140s 2ms/sample - loss: 0.2454 - accuracy: 0.9090 - val_loss: 0.2782 - val_accuracy: 0.9014\n"
          ],
          "name": "stdout"
        }
      ]
    },
    {
      "cell_type": "markdown",
      "metadata": {
        "id": "B5XNPugmik8w",
        "colab_type": "text"
      },
      "source": [
        "##Finalization"
      ]
    },
    {
      "cell_type": "code",
      "metadata": {
        "id": "ecCA-zZ3KAb2",
        "colab_type": "code",
        "cellView": "form",
        "colab": {},
        "outputId": "b0f1e132-2a16-41ae-92b2-a58c993550bd"
      },
      "source": [
        "#@title Save model as HDF5 binary data format\n",
        "\n",
        "model.save(\"model.h5py\")\n",
        "model.save(\"model.h5\")"
      ],
      "execution_count": null,
      "outputs": [
        {
          "output_type": "stream",
          "text": [
            "WARNING:tensorflow:From c:\\users\\asus\\anaconda3\\envs\\tensorflow\\lib\\site-packages\\tensorflow_core\\python\\ops\\resource_variable_ops.py:1786: calling BaseResourceVariable.__init__ (from tensorflow.python.ops.resource_variable_ops) with constraint is deprecated and will be removed in a future version.\n",
            "Instructions for updating:\n",
            "If using Keras pass *_constraint arguments to layers.\n",
            "INFO:tensorflow:Assets written to: model.h5py\\assets\n",
            "Test loss: 0.27415090054687524\n",
            "Test accuracy: 0.90173614\n"
          ],
          "name": "stdout"
        }
      ]
    },
    {
      "cell_type": "code",
      "metadata": {
        "id": "_iW5mhl6owHR",
        "colab_type": "code",
        "colab": {}
      },
      "source": [
        "#@title Evaluate model using test set\n",
        "\n",
        "test_eval=model.evaluate(test_X,test_Y_one_hot,verbose=0)\n",
        "print('Test loss:',test_eval[0])\n",
        "print('Test accuracy:',test_eval[1])"
      ],
      "execution_count": null,
      "outputs": []
    },
    {
      "cell_type": "code",
      "metadata": {
        "id": "VaVhBSCuKAb9",
        "colab_type": "code",
        "colab": {},
        "outputId": "432a2616-78a4-46fb-8dfb-b1c65b681090"
      },
      "source": [
        "#@title Show model accuracy and loss\n",
        "\n",
        "accuracy = train_result.history['accuracy']\n",
        "val_accuracy = train_result.history['val_accuracy']\n",
        "loss = train_result.history['loss']\n",
        "val_loss = train_result.history['val_loss']\n",
        "epochs = range(len(accuracy))\n",
        "plt.plot(epochs, accuracy, label='Training accuracy')\n",
        "plt.plot(epochs, val_accuracy, label='Validation accuracy')\n",
        "plt.title('Training and validation accuracy')\n",
        "plt.legend()\n",
        "plt.figure()\n",
        "plt.plot(epochs, loss, label='Training loss')\n",
        "plt.plot(epochs, val_loss, label='Validation loss')\n",
        "plt.title('Training and validation loss')\n",
        "plt.legend()\n",
        "plt.show()"
      ],
      "execution_count": null,
      "outputs": [
        {
          "output_type": "display_data",
          "data": {
            "image/png": "[encoded data removed]",
            "text/plain": [
              "<Figure size 432x288 with 1 Axes>"
            ]
          },
          "metadata": {
            "tags": [],
            "needs_background": "light"
          }
        },
        {
          "output_type": "display_data",
          "data": {
            "image/png": "[encoded data removed]",
            "text/plain": [
              "<Figure size 432x288 with 1 Axes>"
            ]
          },
          "metadata": {
            "tags": [],
            "needs_background": "light"
          }
        }
      ]
    },
    {
      "cell_type": "code",
      "metadata": {
        "id": "-6AjeaPyKAcC",
        "colab_type": "code",
        "colab": {},
        "outputId": "fa056aed-4a1d-4098-e280-0bfb2156b515"
      },
      "source": [
        "#@title Check model performance\n",
        "\n",
        "# Test with a new image from outside of EMNIST dataset\n",
        "from PIL import Image\n",
        "new_image = Image.open(r\"a.png\").convert('L')\n",
        "new_image = new_image.resize((28,28))\n",
        "new_image = np.array(new_image)\n",
        "\n",
        "plt.figure(figsize=[5,5])\n",
        "new_image = new_image.reshape(-1,28,28,1)\n",
        "new_image = new_image.astype('float32')\n",
        "\n",
        "# Make sure that the image contains white letter with black backgrounnd\n",
        "if np.sum(new_image)/(255*28*28)>0.5:\n",
        "    new_image = 255-new_image\n",
        "    \n",
        "plt.imshow(new_image[0,:,:,0],cmap=\"gray\")\n",
        "result = np.argmax(model.predict(new_image))\n",
        "if result>=10:\n",
        "    result = chr(result+55) #convert to ASCII\n",
        "    \n",
        "print(result)"
      ],
      "execution_count": null,
      "outputs": [
        {
          "output_type": "stream",
          "text": [
            "A\n"
          ],
          "name": "stdout"
        },
        {
          "output_type": "display_data",
          "data": {
            "image/png": "[encoded data removed]",
            "text/plain": [
              "<Figure size 360x360 with 1 Axes>"
            ]
          },
          "metadata": {
            "tags": [],
            "needs_background": "light"
          }
        }
      ]
    }
  ]
}